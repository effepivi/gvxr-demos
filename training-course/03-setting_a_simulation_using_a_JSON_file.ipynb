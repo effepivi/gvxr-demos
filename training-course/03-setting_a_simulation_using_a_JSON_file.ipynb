{
 "cells": [
  {
   "cell_type": "code",
   "execution_count": 1,
   "metadata": {},
   "outputs": [],
   "source": [
    "%matplotlib inline"
   ]
  },
  {
   "cell_type": "markdown",
   "metadata": {},
   "source": [
    "There are 7 main steps to simulate an X-ray image from a JSON file:\n",
    "1. Describe the simulation environment in a JSON file, e.g. configuration-03.json here:\n",
    "\n",
    "```json\n",
    "{\n",
    "    \"WindowSize\": [512, 512],\n",
    "\n",
    "    \"Detector\": {\n",
    "        \"Position\": [10.0, 0.0, 0.0, \"cm\"],        \n",
    "        \"UpVector\": [0, 0, -1],\n",
    "        \"NumberOfPixels\": [640, 320],\n",
    "        \"Size\": [500, 500, \"mm\"],\n",
    "        \"Spacing\": [0.5, 0.5, \"mm\"]\n",
    "    },\n",
    "\n",
    "    \n",
    "    \"Source\": {\n",
    "        \"Position\": [-40.0,  0.0, 0.0, \"cm\"],\n",
    "        \"Shape\": \"PointSource\",\n",
    "        \"Beam\": [\n",
    "            {\n",
    "                \"Energy\": 0.08,\n",
    "                \"Unit\": \"MeV\",\n",
    "                \"PhotonCount\": 1000\n",
    "            }\n",
    "        ]\n",
    "    },\n",
    "\n",
    "    \"Samples\": [\n",
    "        {\n",
    "            \"Label\": \"Dragon\",\n",
    "            \"Path\": \"input_data/welsh-dragon-small.stl\",\n",
    "            \"Unit\": \"mm\",\n",
    "            \"Material\": [\"Mixture\", \"Ti90Al6V4\"],\n",
    "            \"Density\": 4.43,\n",
    "            \"Type\" : \"inner\"\n",
    "        }\n",
    "    ]\n",
    "}\n",
    "```\n",
    "2. OpenGL context:\n",
    "    - `json2gvxr.initGVXR(\"configuration-03.json\", renderer=\"OPENGL\")` for an interactive visualisation window\n",
    "    - `json2gvxr.initGVXR(\"configuration-03.json\", renderer=\"EGL\")` for offline rendering. It is suitable for a GNU/Linux supercomputer.\n",
    "3. Source: `json2gvxr.initSourceGeometry()`\n",
    "4. Spectrum: `spectrum, unit, k, f = json2gvxr.initSpectrum()`\n",
    "5. Detector: `json2gvxr.initDetector()`\n",
    "6. Sample: `json2gvxr.initSamples()`\n",
    "7. Compute the corresponding X-ray image: `gvxr.computeXRayImage()`"
   ]
  },
  {
   "cell_type": "code",
   "execution_count": 2,
   "metadata": {},
   "outputs": [
    {
     "name": "stdout",
     "output_type": "stream",
     "text": [
      "SimpleGVXR 1.0.1 (2022-04-06T14:29:26) [Compiler: GNU g++] on Linux\n",
      "gVirtualXRay core library (gvxr) 1.1.5 (2022-04-06T14:29:05) [Compiler: GNU g++] on Linux\n"
     ]
    }
   ],
   "source": [
    "import numpy as np # Who does not use Numpy?\n",
    "import matplotlib # To plot images\n",
    "import matplotlib.pyplot as plt # Plotting\n",
    "from matplotlib.colors import LogNorm # Look up table\n",
    "\n",
    "font = {'family' : 'serif',\n",
    "         'size'   : 22\n",
    "       }\n",
    "matplotlib.rc('font', **font)\n",
    "matplotlib.rc('text', usetex=True)\n",
    "\n",
    "from tifffile import imsave # Write TIFF files\n",
    "\n",
    "import gvxrPython3 as gvxr # Simulate X-ray images\n",
    "import json2gvxr # Set the X-ray simulation environment"
   ]
  },
  {
   "cell_type": "markdown",
   "metadata": {},
   "source": [
    "We added `import json2gvxr` to the list of modules."
   ]
  },
  {
   "cell_type": "markdown",
   "metadata": {},
   "source": [
    "# Create an OpenGL context\n",
    "\n",
    "To create an OpenGL context, the renderer is either \"OPENGL\" or \"EGL\". \n",
    "OPENGL is used to create an interactive visualisation window; EGL is used for offline rendering only, e.g. on a supercomputer."
   ]
  },
  {
   "cell_type": "code",
   "execution_count": 3,
   "metadata": {},
   "outputs": [
    {
     "name": "stdout",
     "output_type": "stream",
     "text": [
      "Create an OpenGL context: 512x512\n"
     ]
    }
   ],
   "source": [
    "json2gvxr.initGVXR(\"configuration-03.json\", renderer=\"OPENGL\")"
   ]
  },
  {
   "cell_type": "markdown",
   "metadata": {},
   "source": [
    "# Set up a monochromatic source"
   ]
  },
  {
   "cell_type": "code",
   "execution_count": 4,
   "metadata": {},
   "outputs": [
    {
     "name": "stdout",
     "output_type": "stream",
     "text": [
      "Set up the beam\n",
      "\tSource position: [-40.0, 0.0, 0.0, 'cm']\n",
      "\tSource shape: PointSource\n"
     ]
    }
   ],
   "source": [
    "json2gvxr.initSourceGeometry()\n",
    "spectrum, unit, k, f = json2gvxr.initSpectrum()"
   ]
  },
  {
   "cell_type": "markdown",
   "metadata": {},
   "source": [
    "# Set up an ideal detector"
   ]
  },
  {
   "cell_type": "code",
   "execution_count": 5,
   "metadata": {},
   "outputs": [
    {
     "name": "stdout",
     "output_type": "stream",
     "text": [
      "Set up the detector\n",
      "Set up the detector\n",
      "\tDetector position: [10.0, 0.0, 0.0, 'cm']\n",
      "\tDetector up vector: [0, 0, -1]\n",
      "\tDetector number of pixels: [640, 320]\n",
      "\tPixel spacing: [0.5, 0.5, 'mm']\n"
     ]
    }
   ],
   "source": [
    "print(\"Set up the detector\");\n",
    "json2gvxr.initDetector()"
   ]
  },
  {
   "cell_type": "markdown",
   "metadata": {},
   "source": [
    "# Load the sample data"
   ]
  },
  {
   "cell_type": "code",
   "execution_count": 6,
   "metadata": {},
   "outputs": [],
   "source": [
    "json2gvxr.initSamples()"
   ]
  },
  {
   "cell_type": "code",
   "execution_count": 7,
   "metadata": {},
   "outputs": [
    {
     "name": "stdout",
     "output_type": "stream",
     "text": [
      "Move the Dragon to the centre\n"
     ]
    }
   ],
   "source": [
    "print(\"Move the Dragon to the centre\")\n",
    "gvxr.moveToCentre(\"Dragon\")"
   ]
  },
  {
   "cell_type": "markdown",
   "metadata": {},
   "source": [
    "# Compute an X-ray image\n",
    "\n",
    "We convert the array in a Numpy structure and store the data using single-precision floating-point numbers."
   ]
  },
  {
   "cell_type": "code",
   "execution_count": 8,
   "metadata": {},
   "outputs": [
    {
     "name": "stdout",
     "output_type": "stream",
     "text": [
      "Compute an X-ray image\n"
     ]
    }
   ],
   "source": [
    "print(\"Compute an X-ray image\");\n",
    "x_ray_image = np.array(gvxr.computeXRayImage()).astype(np.single)"
   ]
  },
  {
   "cell_type": "markdown",
   "metadata": {},
   "source": [
    "# Save the X-ray image in a TIFF file"
   ]
  },
  {
   "cell_type": "code",
   "execution_count": 9,
   "metadata": {},
   "outputs": [],
   "source": [
    "imsave('output_data/raw_x-ray_image-03.tif', x_ray_image)"
   ]
  },
  {
   "cell_type": "markdown",
   "metadata": {},
   "source": [
    "# Display the X-ray image"
   ]
  },
  {
   "cell_type": "code",
   "execution_count": 10,
   "metadata": {},
   "outputs": [
    {
     "data": {
      "image/png": "[encoded data removed]",
      "text/plain": [
       "<Figure size 432x288 with 2 Axes>"
      ]
     },
     "metadata": {
      "needs_background": "light"
     },
     "output_type": "display_data"
    }
   ],
   "source": [
    "plt.title(\"Image simulated using gVirtualXray\\nusing a linear colour scale\")\n",
    "plt.imshow(x_ray_image, cmap=\"gray\")\n",
    "plt.colorbar(orientation='vertical');\n",
    "plt.show()"
   ]
  },
  {
   "cell_type": "code",
   "execution_count": 11,
   "metadata": {},
   "outputs": [
    {
     "data": {
      "image/png": "[encoded data removed]",
      "text/plain": [
       "<Figure size 432x288 with 2 Axes>"
      ]
     },
     "metadata": {
      "needs_background": "light"
     },
     "output_type": "display_data"
    }
   ],
   "source": [
    "plt.title(\"Image simulated using gVirtualXray\\nusing a logarithmic colour scale\")\n",
    "plt.imshow(x_ray_image, cmap=\"gray\", norm=LogNorm(vmin=x_ray_image.min(), vmax=x_ray_image.max()))\n",
    "plt.colorbar(orientation='vertical');\n",
    "plt.show()"
   ]
  },
  {
   "cell_type": "markdown",
   "metadata": {},
   "source": [
    "# Update the visualisation window"
   ]
  },
  {
   "cell_type": "code",
   "execution_count": 12,
   "metadata": {},
   "outputs": [],
   "source": [
    "gvxr.displayScene()"
   ]
  },
  {
   "cell_type": "markdown",
   "metadata": {},
   "source": [
    "# Interactive visualisation\n",
    "\n",
    "The user can rotate the 3D scene and zoom-in and -out in the visualisation window.\n",
    "\n",
    "- Keys are:\n",
    "    - Q/Escape: to quit the event loop (does not close the window)\n",
    "    - B: display/hide the X-ray beam\n",
    "    - W: display the polygon meshes in solid or wireframe\n",
    "    - N: display the X-ray image in negative or positive\n",
    "    - H: display/hide the X-ray detector\n",
    "- Mouse interactions:\n",
    "    - Zoom in/out: mouse wheel\n",
    "    - Rotation: Right mouse button down + move cursor"
   ]
  },
  {
   "cell_type": "code",
   "execution_count": 13,
   "metadata": {},
   "outputs": [],
   "source": [
    "gvxr.renderLoop()"
   ]
  },
  {
   "cell_type": "markdown",
   "metadata": {},
   "source": [
    "# Take a screenshot\n",
    "\n",
    "This image can be used in a research paper to illustrate the simulation environment, in which case you may want to change the background colour to white with:"
   ]
  },
  {
   "cell_type": "code",
   "execution_count": 14,
   "metadata": {},
   "outputs": [],
   "source": [
    "gvxr.setWindowBackGroundColour(1.0, 1.0, 1.0)"
   ]
  },
  {
   "cell_type": "markdown",
   "metadata": {},
   "source": [
    "or dark-grey"
   ]
  },
  {
   "cell_type": "code",
   "execution_count": 15,
   "metadata": {},
   "outputs": [],
   "source": [
    "gvxr.setWindowBackGroundColour(0.25, 0.25, 0.25)"
   ]
  },
  {
   "cell_type": "markdown",
   "metadata": {},
   "source": [
    "and update the visualisation window"
   ]
  },
  {
   "cell_type": "code",
   "execution_count": 16,
   "metadata": {},
   "outputs": [],
   "source": [
    "gvxr.displayScene()"
   ]
  },
  {
   "cell_type": "markdown",
   "metadata": {},
   "source": [
    "take the screenshot and save it in a file"
   ]
  },
  {
   "cell_type": "code",
   "execution_count": 17,
   "metadata": {},
   "outputs": [],
   "source": [
    "screenshot = gvxr.takeScreenshot()"
   ]
  },
  {
   "cell_type": "code",
   "execution_count": 18,
   "metadata": {},
   "outputs": [],
   "source": [
    "plt.imsave(\"output_data/screenshot-03.png\", np.array(screenshot))"
   ]
  },
  {
   "cell_type": "markdown",
   "metadata": {},
   "source": [
    "display it using Matplotlib"
   ]
  },
  {
   "cell_type": "code",
   "execution_count": 19,
   "metadata": {},
   "outputs": [
    {
     "data": {
      "image/png": "[encoded data removed]",
      "text/plain": [
       "<Figure size 432x288 with 1 Axes>"
      ]
     },
     "metadata": {
      "needs_background": "light"
     },
     "output_type": "display_data"
    }
   ],
   "source": [
    "plt.imshow(screenshot)\n",
    "plt.title(\"Screenshot of the X-ray simulation environment\")\n",
    "plt.axis('off');\n",
    "plt.show()"
   ]
  },
  {
   "cell_type": "markdown",
   "metadata": {},
   "source": [
    "## All done\n",
    "\n",
    "Destroy the window"
   ]
  },
  {
   "cell_type": "code",
   "execution_count": 20,
   "metadata": {},
   "outputs": [],
   "source": [
    "gvxr.destroyAllWindows()"
   ]
  }
 ],
 "metadata": {
  "kernelspec": {
   "display_name": "Python 3",
   "language": "python",
   "name": "python3"
  },
  "language_info": {
   "codemirror_mode": {
    "name": "ipython",
    "version": 3
   },
   "file_extension": ".py",
   "mimetype": "text/x-python",
   "name": "python",
   "nbconvert_exporter": "python",
   "pygments_lexer": "ipython3",
   "version": "3.6.12"
  }
 },
 "nbformat": 4,
 "nbformat_minor": 4
}
