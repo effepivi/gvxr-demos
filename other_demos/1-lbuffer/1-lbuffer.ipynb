{
 "cells": [
  {
   "cell_type": "markdown",
   "metadata": {},
   "source": [
    "# Computing the path length in an object"
   ]
  },
  {
   "cell_type": "markdown",
   "metadata": {},
   "source": [
    "This tutorial show you how to compute the path length for 3 objects (here from STL files). \n",
    "\n",
    "![3D objects](screenshot.png)\n",
    "\n",
    "We store the parameters of the scanning geometry using a JSON file (`param.json`):\n",
    "\n",
    "```json\n",
    "{\n",
    "  \"WindowSize\": [512, 512],\n",
    "  \"Source\": {\n",
    "    \"Position\": [-40.0,  0.0, 0.0, \"cm\"],\n",
    "    \"Shape\": \"ParallelBeam\"\n",
    "  },\n",
    "\n",
    "  \"Detector\": {\n",
    "    \"Position\": [40.0, 0.0, 0.0, \"cm\"],\n",
    "    \"UpVector\": [0, 0, -1],\n",
    "    \"NumberOfPixels\": [641, 320],\n",
    "    \"Spacing\": [0.25, 0.25, \"mm\"]\n",
    "  },\n",
    "\n",
    "  \"Samples\": [\n",
    "    {\n",
    "      \"Label\": \"cubes\",\n",
    "      \"Path\": \"cubes.stl\",\n",
    "      \"Unit\": \"mm\"\n",
    "    },\n",
    "\n",
    "    {\n",
    "      \"Label\": \"gVXR\",\n",
    "      \"Path\": \"gVXR.stl\",\n",
    "      \"Unit\": \"mm\"\n",
    "    },\n",
    "\n",
    "    {\n",
    "      \"Label\": \"spheres\",\n",
    "      \"Path\": \"spheres.stl\",\n",
    "      \"Unit\": \"mm\"\n",
    "    }\n",
    "  ]\n",
    "}\n",
    "```"
   ]
  },
  {
   "cell_type": "markdown",
   "metadata": {},
   "source": [
    "## Import packages"
   ]
  },
  {
   "cell_type": "code",
   "execution_count": 1,
   "metadata": {},
   "outputs": [],
   "source": [
    "import json # Load the JSON file\n",
    "import numpy as np # To save the image in ASCII\n",
    "import SimpleITK as sitk # To save the image in a binary (optional)\n",
    "\n",
    "import matplotlib.pyplot as plt # For plotting (optional)\n",
    "\n",
    "import gvxrPython3 as gvxr # Simulate X-ray images"
   ]
  },
  {
   "cell_type": "markdown",
   "metadata": {},
   "source": [
    "## Load the JSON file"
   ]
  },
  {
   "cell_type": "code",
   "execution_count": 2,
   "metadata": {},
   "outputs": [],
   "source": [
    "with open('config.json') as f:\n",
    "  params = json.load(f)"
   ]
  },
  {
   "cell_type": "markdown",
   "metadata": {},
   "source": [
    "## Create an OpenGL context"
   ]
  },
  {
   "cell_type": "code",
   "execution_count": 3,
   "metadata": {},
   "outputs": [],
   "source": [
    "gvxr.createWindow(0, 1, \"EGL\");\n",
    "\n",
    "window_size = params[\"WindowSize\"];\n",
    "gvxr.setWindowSize(\n",
    "    window_size[0],\n",
    "    window_size[1]\n",
    ");"
   ]
  },
  {
   "cell_type": "markdown",
   "metadata": {},
   "source": [
    "## Set up the beam"
   ]
  },
  {
   "cell_type": "code",
   "execution_count": 4,
   "metadata": {},
   "outputs": [],
   "source": [
    "source_position = params[\"Source\"][\"Position\"];\n",
    "gvxr.setSourcePosition(\n",
    "    source_position[0],\n",
    "    source_position[1],\n",
    "    source_position[2],\n",
    "    source_position[3]\n",
    ");\n",
    "\n",
    "source_shape = params[\"Source\"][\"Shape\"]\n",
    "\n",
    "if source_shape == \"ParallelBeam\":\n",
    "    gvxr.useParallelBeam();\n",
    "elif source_shape == \"PointSource\":\n",
    "    gvxr.usePointSource();\n",
    "else:\n",
    "    raise \"Unknown source shape:\" + source_shape;"
   ]
  },
  {
   "cell_type": "markdown",
   "metadata": {},
   "source": [
    "## Set up the detector"
   ]
  },
  {
   "cell_type": "code",
   "execution_count": 5,
   "metadata": {},
   "outputs": [],
   "source": [
    "detector_position = params[\"Detector\"][\"Position\"];\n",
    "gvxr.setDetectorPosition(\n",
    "    detector_position[0],\n",
    "    detector_position[1],\n",
    "    detector_position[2],\n",
    "    detector_position[3]\n",
    ");\n",
    "\n",
    "detector_up = params[\"Detector\"][\"UpVector\"];\n",
    "gvxr.setDetectorUpVector(\n",
    "    detector_up[0],\n",
    "    detector_up[1],\n",
    "    detector_up[2]\n",
    ");\n",
    "\n",
    "detector_number_of_pixels = params[\"Detector\"][\"NumberOfPixels\"];\n",
    "gvxr.setDetectorNumberOfPixels(\n",
    "    detector_number_of_pixels[0],\n",
    "    detector_number_of_pixels[1]\n",
    ");\n",
    "\n",
    "pixel_spacing = params[\"Detector\"][\"Spacing\"];\n",
    "gvxr.setDetectorPixelSize(\n",
    "    pixel_spacing[0],\n",
    "    pixel_spacing[1],\n",
    "    pixel_spacing[2]\n",
    ");"
   ]
  },
  {
   "cell_type": "markdown",
   "metadata": {},
   "source": [
    "## Load the polygon meshes"
   ]
  },
  {
   "cell_type": "code",
   "execution_count": 6,
   "metadata": {},
   "outputs": [],
   "source": [
    "for mesh in params[\"Samples\"]:\n",
    "\n",
    "    gvxr.loadMeshFile(\n",
    "        mesh[\"Label\"],\n",
    "        mesh[\"Path\"],\n",
    "        mesh[\"Unit\"]\n",
    "    );\n",
    "\n",
    "    gvxr.addPolygonMeshAsInnerSurface(mesh[\"Label\"]);"
   ]
  },
  {
   "cell_type": "markdown",
   "metadata": {},
   "source": [
    "## Dummy beam spectrum"
   ]
  },
  {
   "cell_type": "code",
   "execution_count": 7,
   "metadata": {},
   "outputs": [],
   "source": [
    "gvxr.addEnergyBinToSpectrum(1,\"keV\",10); # 10 photons of 1 keV"
   ]
  },
  {
   "cell_type": "markdown",
   "metadata": {},
   "source": [
    "## Compute the path length for every object"
   ]
  },
  {
   "cell_type": "code",
   "execution_count": 8,
   "metadata": {},
   "outputs": [],
   "source": [
    "path_length = {};\n",
    "for mesh in params[\"Samples\"]:\n",
    "    path_length[mesh[\"Label\"]] = gvxr.computeLBuffer(mesh[\"Label\"]);"
   ]
  },
  {
   "cell_type": "markdown",
   "metadata": {},
   "source": [
    "## Save the path length using Numpy"
   ]
  },
  {
   "cell_type": "code",
   "execution_count": 9,
   "metadata": {},
   "outputs": [],
   "source": [
    "for key in path_length:\n",
    "    np.savetxt(key + \"_path_length.txt\", path_length[key]);"
   ]
  },
  {
   "cell_type": "markdown",
   "metadata": {},
   "source": [
    "## Save the path length using SITK"
   ]
  },
  {
   "cell_type": "code",
   "execution_count": 10,
   "metadata": {},
   "outputs": [],
   "source": [
    "for key in path_length:\n",
    "    volume = sitk.GetImageFromArray(path_length[key]);\n",
    "    volume.SetSpacing([pixel_spacing[0], pixel_spacing[1]]);\n",
    "    sitk.WriteImage(volume, key + \"_path_length.mha\", useCompression=True);"
   ]
  },
  {
   "cell_type": "markdown",
   "metadata": {},
   "source": [
    "## Display the path length using Matplotlib"
   ]
  },
  {
   "cell_type": "code",
   "execution_count": 11,
   "metadata": {},
   "outputs": [
    {
     "data": {
      "image/png": "[encoded data removed]",
      "text/plain": [
       "<Figure size 432x288 with 2 Axes>"
      ]
     },
     "metadata": {
      "needs_background": "light"
     },
     "output_type": "display_data"
    },
    {
     "data": {
      "image/png": "[encoded data removed]",
      "text/plain": [
       "<Figure size 432x288 with 2 Axes>"
      ]
     },
     "metadata": {
      "needs_background": "light"
     },
     "output_type": "display_data"
    },
    {
     "data": {
      "image/png": "[encoded data removed]",
      "text/plain": [
       "<Figure size 432x288 with 2 Axes>"
      ]
     },
     "metadata": {
      "needs_background": "light"
     },
     "output_type": "display_data"
    }
   ],
   "source": [
    "for key in path_length:\n",
    "    fig=plt.figure();\n",
    "    imgplot = plt.imshow(path_length[key], cmap=\"gray\");\n",
    "    plt.title(\"Path length (in cm) of \" + key);\n",
    "    plt.colorbar();\n",
    "    plt.savefig(key + \"_path_length.pdf\");"
   ]
  }
 ],
 "metadata": {
  "kernelspec": {
   "display_name": "Python 3",
   "language": "python",
   "name": "python3"
  },
  "language_info": {
   "codemirror_mode": {
    "name": "ipython",
    "version": 3
   },
   "file_extension": ".py",
   "mimetype": "text/x-python",
   "name": "python",
   "nbconvert_exporter": "python",
   "pygments_lexer": "ipython3",
   "version": "3.6.10"
  }
 },
 "nbformat": 4,
 "nbformat_minor": 4
}
