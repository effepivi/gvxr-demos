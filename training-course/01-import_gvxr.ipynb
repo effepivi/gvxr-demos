{
 "cells": [
  {
   "cell_type": "code",
   "execution_count": 17,
   "metadata": {},
   "outputs": [],
   "source": [
    "import math\n",
    "import numpy as np\n",
    "\n",
    "import matplotlib\n",
    "import matplotlib.pyplot as plt"
   ]
  },
  {
   "cell_type": "markdown",
   "metadata": {},
   "source": [
    "# Session 1\n",
    "\n",
    "## Introduction to X-ray attenuation and its implementation in gVXR\n",
    "\n",
    "## Authors: Franck Vidal and Jean-Michel L&eacute;tang"
   ]
  },
  {
   "cell_type": "markdown",
   "metadata": {},
   "source": [
    "# Aims\n",
    "\n",
    "- Introduce what X-rays are and how they are produced;\n",
    "- Understand how X-rays interact with matter;\n",
    "- Use the Beer-Lambert law to compute the attenuation of X-ray by matter;\n",
    "\n",
    "\n",
    "- Check that gVirtualXray is installed\n",
    "- Check the GPU implementation (software and hardware)\n",
    "- How to get help\n",
    "\n",
    "<!-- # Check that gVirtualXray is installed\n",
    "\n",
    "The wrapper for Python 3 is called \"gvxrPython3\". \n",
    "Where does the \"3\" come from? \n",
    "This is because few years ago there was also \"gvxrPython2\" for Python 2 but Python 2 is now deprecated, so is gvxrPython2. \n",
    "gvxrPython3 is a bit long, gvxr is defined as an alias as follows: -->"
   ]
  },
  {
   "cell_type": "markdown",
   "metadata": {},
   "source": [
    "# What X-rays are?\n",
    "\n",
    "Write slide"
   ]
  },
  {
   "cell_type": "markdown",
   "metadata": {},
   "source": [
    "# Rational for this Research\n",
    "\n",
    "- Simulation of X-Ray attenuation extensively studied in physics;\n",
    "- Different physically-based simulation code available;\n",
    "- Physically-based simulation usually performed using Monte Carlo methods on CPU (often used in dosimetry for radiotherapy);\n",
    "    - Very accurate; but\n",
    "    - Computing an image requires a very very very long time (e.g. days or weeks);\n",
    "- Ray-tracing is an alternative, but\n",
    "    - Still relatively slow on CPU;\n",
    "    - Does not easily take into account scattering;\n",
    "        - Scattering does not necessarily matter in X-ray transmission imaging;\n",
    "    - Does not include Poisson counting noise;\n",
    "        - Poisson noise can be added as a post-process.\n",
    "\n",
    "\n",
    "# Medical Training using VR\n",
    "\n",
    "- PhD (start 2003) and Postdoc (start 2006) in medical VR;\n",
    "- Development of VR apps to train Interventional radiologists;\n",
    "    - Stick needles and catheters in the human body whilst looking at images\n",
    "    - Such as fluoroscopy;\n",
    "    - Real-time X-ray images on a TV screen.\n",
    "- Not interested in scattering;\n",
    "- Noise is not an issue;\n",
    "- Ray-tracing is viable in this context.\n",
    "\n",
    "\n",
    "# Need for a Simulation Library that is\n",
    "\n",
    "- Open-source (with a flexible license)\n",
    "    - Can be used in open-source projects\n",
    "    - Can be used in closed source commercial applications too\n",
    "- Fast\n",
    "    - GPU implementation.\n",
    "- Flexible\n",
    "    - Available for most popular programming languages\n",
    "- Cross platform\n",
    "    - Run on GNU/Linux, Mac OS X and Windows\n",
    "- Validated\n",
    "\n",
    "\n",
    "# In a nutshell, gVirtualXray is\n",
    "\n",
    "- a C++ X-Ray simulation library\n",
    "- Open source;\n",
    "- Realtime;\n",
    "- Portable;\n",
    "- Validated;\n",
    "- Available for many programming languages.\n",
    "\n",
    "# Fact sheet\n",
    "\n",
    "- SVN repository hosted by [![Sourceforge](img/sourceforge-logo.png)](https://sourceforge.net/)\n",
    "- Implemented in ![C++](img/cpp-logo.png) using ![OpenGL](img/OpenGL-logo.png)\n",
    "<!-- - Can also be deployed in ![Python](img/python-logo.png) applications; -->\n",
    "- Cross-platform, the library works on\n",
    "    - Windows, GNU/Linux, and Mac OS X,\n",
    "    - Nvidia and AMD graphics cards,\n",
    "    - Integrated GPUs,\n",
    "    - Desktop PCs and Laptops.\n",
    "<!-- - Provides real-time performance; -->\n",
    "- Is accurate (quantitative validation);\n",
    "- Enable reproducible research;\n",
    "- Supports [![XCOM](img/XCOM-logo.jpg): Photon Cross Sections Database](https://physics.nist.gov/PhysRefData/Xcom/html/xcom1.html) from [![NIST](img/nist-logo.png)](https://www.nist.gov/);\n",
    "- Uses polygon meshes to model 3-D geometries from popular file formats (eg. STL, PLY, 3DS, OBJ, DXF, X3D, DAE)\n",
    "\n",
    "![Example of wireframe model](img/wireframe_model2.png)\n",
    "\n",
    "\n",
    "# Simulation supports:\n",
    "\n",
    "- Various source shapes\n",
    "    - Point source;\n",
    "    - Cube source;\n",
    "    - Parallel beam.\n",
    "- Incident beams:        \n",
    "    - Monochromatic;\n",
    "    - Polychromatic.\n",
    "- Geometries:\n",
    "    - Surface meshes (triangles);\n",
    "    - Volume meshes (tetrahedrons). **NEW**\n",
    "- Material properties:\n",
    "    - Chemical elements (e.g. W for tungsten);\n",
    "    - Compounds (e.g. H2O for water); **NEW**\n",
    "    - Mixture (e.g. Ti90/Al6/V4); **NEW**\n",
    "    - Hounsfield units (for medical applications).\n",
    "\n",
    "# More recently\n",
    "\n",
    "- Improved installation from source code.\n",
    "- Converter from Abaqus files 2 STL files: **NEW**\n",
    "    - The simulation works with volumetric meshes (tetrahedrons),\n",
    "    - With surface meshes (triangles)\n",
    "- Always working on improvements (when time allows)\n",
    "    - Currently working on the deployment on SuperComputing Wales. **work-in-progress**\n",
    "    - Port to Vulkan? **work-in-progress**\n",
    "    - Maybe one day, a Matlab wrapper?\n",
    "\n",
    "# Applications of gVirtualXRay\n",
    "\n",
    "- [Teaching particle physics to undergraduates](https://doi.org/10.1088/1361-6404/ab5011);\n",
    "- Virtual Reality Simulation;\n",
    "- [Virtual Testing Lab](https://doi.org/10.5281/zenodo.1452506)\n",
    "- [Design new clinical imaging modality to reduce dose exposure](https://doi.org/10.1109/ACCESS.2019.2895925)\n",
    "- [Teaching radiography in medicine](https://doi.org/10.2312/cgvc.20191267)\n",
    "\n",
    "![GUI of radiography tool](img/suiteacher.png)"
   ]
  },
  {
   "cell_type": "markdown",
   "metadata": {},
   "source": [
    "# Interaction of X-rays with matter\n",
    "\n",
    "# X-photons/matter Interactions (1/2)\n",
    "\n",
    "- X-photons cross matter;\n",
    "- During their path into any material, they can interact with matter.\n",
    "\n",
    "![*Illustration of X-ray photon/matter interaction*](img/interactions.png)\n",
    "\n",
    "1. Directly transmitted photons (no interaction);\n",
    "2. Absorbed photons;\n",
    "3. Scattered photons;\n",
    "4. Absorbed scattered photons.\n",
    "\n",
    "# X-photons/matter Interactions (2/2)\n",
    "\n",
    "**For most X-rays imaging modalities, only directly transmitted photons are essential:**\n",
    "\n",
    "- Scattered photons decrease the image quality;\n",
    "- Absorbed photons do not reach the detector;\n",
    "- Scattered photons may be ignored (but not necessarily).\n",
    "\n",
    "![*Illustration of X-ray photon/matter interaction*](img/interactions.png)\n",
    "\n",
    "1. Directly transmitted photons (no interaction);\n",
    "2. Absorbed photons;\n",
    "3. Scattered photons;\n",
    "4. Absorbed scattered photons.\n",
    "\n",
    "\n",
    "# Beer-Lambert Law (Attenuation Law)\n",
    "\n",
    "\n",
    "![*Illustration of the Beer-Lambert law*](img/attenuation.png)\n",
    "\n",
    "- N<sub>out</sub>(E) = N<sub>in</sub>(E) e<sup>(-&Sigma;<sub>i</sub> &mu;<sub>i</sub>(E,&rho;,Z) L<sub>p</sub>(i))</sup>\n",
    "  - N<sub>in</sub>(E) the number of incident photons at energy E;\n",
    "  - N<sub>out</sub>(E) the number of transmitted photons of energy E;\n",
    "  - &mu;<sub>i</sub> the linear attenuation coefficient (in cm<sup>-1</sup>) of the i<sup>th</sup> object. It depends on:\n",
    "    - E the energy of incident photons;\n",
    "    - &rho; the material density of the object;\n",
    "    - Z the atomic number of the object material.\n",
    "  - L<sub>p</sub>(i) the path length of the ray in the i<sup>th</sup> object.\n",
    "- E<sub>out</sub> = N<sub>out</sub>(E) x E\n",
    "  - E<sub>out</sub> the energy received by the pixel, i.e. as recorded in the X-ray image.\n",
    "\n",
    "# Example (monochromatic case)\n",
    "\n",
    "See [http://gvirtualxray.sourceforge.net/validation/validation_03/beer_lambert_law_monochromatic.php](http://gvirtualxray.sourceforge.net/validation/validation_03/beer_lambert_law_monochromatic.php)"
   ]
  },
  {
   "cell_type": "markdown",
   "metadata": {},
   "source": [
    "# Linear attenuation coefficient\n",
    "\n",
    "The linear [attenuation coefficient](https://www.creatis.insa-lyon.fr/~letang/x-ray-book/physics.html#attenuation-coefficient) $\\mu$ appears in the Beer-Lambert [Attenuation law](https://www.creatis.insa-lyon.fr/~letang/x-ray-book/physics.html#attenuation-law) which gives the number of directly transmitted photons $N$ (i.e. without interaction) in terms of the number of incident photons $N_0$:\n",
    "$$\n",
    "N_{\\mathrm{dt}}(E)=N_0(E)\\exp(-\\mu(E)X)\n",
    "$$\n",
    "where $X$ is the thickness of the traversed material. This expression is only valid for photons which have the same energy $E$."
   ]
  },
  {
   "cell_type": "code",
   "execution_count": 1,
   "metadata": {},
   "outputs": [
    {
     "data": {
      "application/vnd.jupyter.widget-view+json": {
       "model_id": "7c2254a504014197addc2ff04991fa02",
       "version_major": 2,
       "version_minor": 0
      },
      "text/plain": [
       "interactive(children=(Dropdown(description='Material:', layout=Layout(width='max-content'), options=(('Polyeth…"
      ]
     },
     "metadata": {},
     "output_type": "display_data"
    }
   ],
   "source": [
    "%matplotlib widget\n",
    "import utilities\n",
    "import ipywidgets as widgets\n",
    "widgets.interact_manual(utilities.mu,material=widgets.Dropdown(options=[('Polyethylene','H2C'),('Water','H2O'),('Aluminium','Al'),('Copper','Cu'),('Yttrium','Y'),('Tin','Sn'),('Lead','Pb')],value=\"H2C\",layout={'width': 'max-content'},description='Material:',style={'description_width': 'initial'}));"
   ]
  },
  {
   "cell_type": "markdown",
   "metadata": {},
   "source": [
    "# Attenuation of 500 photons of 100 keV by 1cm of copper\n",
    "\n",
    "In the previous cell, \n",
    "1. Select copper as material\n",
    "2. Click on `Run Interact`\n",
    "3. Using the mouse cursor, find what the total linear attenuation coefficient  of copper is for 100 keV,\n",
    "4. Write down the value\n",
    "5. In the cell below, compute $$N_{\\mathrm{dt}}(E)=N_0(E)\\exp(-\\mu(E)X)$$\n",
    "    - with $E$ = 100 keV,\n",
    "    - $N_0(E)$ = 500\n",
    "    - $X$ = 1 and\n",
    "    - $\\mu(E)$ the value you wrote down"
   ]
  },
  {
   "cell_type": "code",
   "execution_count": 66,
   "metadata": {},
   "outputs": [
    {
     "name": "stdout",
     "output_type": "stream",
     "text": [
      "Out of 500 photons, only 8 are transmitted\n"
     ]
    }
   ],
   "source": [
    "N_0 = 500\n",
    "X_Cu = 1\n",
    "mu_Cu = 4.07937\n",
    "\n",
    "N_dt = N_0 * math.exp(-mu_Cu * X_Cu)\n",
    "print(\"Out of\", N_0, \"photons, only\", round(N_dt), \"are transmitted\")"
   ]
  },
  {
   "cell_type": "markdown",
   "metadata": {},
   "source": [
    "# Attenuation of 500 photons of 100 keV by ??cm of water\n",
    "\n",
    "- We know that $$N_{\\mathrm{Cu}}=500 \\times \\exp(-\\mu_{Cu} \\times 1) = 8$$\n",
    "- We want to illustrate than water does not attenuate X-rays of 100 keV as much as copper.\n",
    "- Repeat some of the previous steps to find the what the total linear attenuation coefficient of water is for 100 keV.\n",
    "- The Beer-Lambert law in this case is:\n",
    "$$N_{\\mathrm{H_2O}}= 500 \\times \\exp(-\\mu_{H_2O} \\times x) = 8$$\n",
    "- What is the value of $x$?"
   ]
  },
  {
   "cell_type": "code",
   "execution_count": 67,
   "metadata": {},
   "outputs": [],
   "source": [
    "X_H2O = None\n",
    "mu_H2O = 0.170749"
   ]
  },
  {
   "cell_type": "markdown",
   "metadata": {},
   "source": [
    "$$500 \\times \\exp(-\\mu_{H_2O} \\times x) = N_{\\mathrm{H_2O}} = 8$$\n",
    "$$\\exp(-\\mu_{H_2O} \\times x) = \\frac{N_{\\mathrm{H_2O}}}{500}$$\n",
    "$$-\\mu_{H_2O} \\times x = \\ln\\left(\\frac{N_{\\mathrm{H_2O}}}{500}\\right)$$\n",
    "$$\\mu_{H_2O} \\times x = -\\ln\\left(\\frac{N_{\\mathrm{H_2O}}}{500}\\right)$$\n",
    "$$x = \\frac{-\\ln\\left(\\frac{N_{\\mathrm{H_2O}}}{500}\\right)}{\\mu_{H_2O}}$$"
   ]
  },
  {
   "cell_type": "code",
   "execution_count": 68,
   "metadata": {},
   "outputs": [
    {
     "name": "stdout",
     "output_type": "stream",
     "text": [
      "24 cm of water is needed to stop as many photons of 100 keV as 1 cm of copper\n"
     ]
    }
   ],
   "source": [
    "X_H2O = (-math.log(N_dt / 500)) / mu_H2O\n",
    "print(round(X_H2O), \"cm of water is needed to stop as many photons of 100 keV as\", X_Cu,\"cm of copper\")"
   ]
  },
  {
   "cell_type": "markdown",
   "metadata": {},
   "source": [
    "# Check if we made a mistake"
   ]
  },
  {
   "cell_type": "code",
   "execution_count": 69,
   "metadata": {},
   "outputs": [
    {
     "name": "stdout",
     "output_type": "stream",
     "text": [
      "Out of 500 photons, only 8 are transmitted\n"
     ]
    }
   ],
   "source": [
    "N_dt = N_0 * math.exp(-mu_H2O * X_H2O)\n",
    "print(\"Out of\", N_0, \"photons, only\", round(N_dt), \"are transmitted\")"
   ]
  },
  {
   "cell_type": "markdown",
   "metadata": {},
   "source": [
    "- Write down the values of `X_Cu` and `X_H2O`\n",
    "- We will double-check again with gVXR."
   ]
  },
  {
   "cell_type": "code",
   "execution_count": 70,
   "metadata": {},
   "outputs": [],
   "source": [
    "# Import gVXR package\n",
    "from gvxrPython3 import gvxr"
   ]
  },
  {
   "cell_type": "code",
   "execution_count": 7,
   "metadata": {},
   "outputs": [
    {
     "name": "stdout",
     "output_type": "stream",
     "text": [
      "Create an OpenGL context\n"
     ]
    },
    {
     "name": "stderr",
     "output_type": "stream",
     "text": [
      "0\n",
      "\n",
      "NVIDIA Corporation\n",
      "NVIDIA GeForce RTX 2080 Ti/PCIe/SSE2\n",
      "3.2.0 NVIDIA 515.48.07\n",
      "\n"
     ]
    }
   ],
   "source": [
    "# Create an OpenGL context\n",
    "print(\"Create an OpenGL context\")\n",
    "gvxr.createWindow();\n",
    "gvxr.setWindowSize(512, 512);"
   ]
  },
  {
   "cell_type": "code",
   "execution_count": 26,
   "metadata": {},
   "outputs": [
    {
     "name": "stdout",
     "output_type": "stream",
     "text": [
      "Set up the beam\n"
     ]
    }
   ],
   "source": [
    "# Set up the beam\n",
    "print(\"Set up the beam\")\n",
    "gvxr.setSourcePosition(-150.0,  0.0, 0.0, \"cm\");\n",
    "gvxr.usePointSource();\n",
    "#gvxr.useParallelBeam();\n",
    "\n",
    "# 500 phothons of 100 keV per ray\n",
    "gvxr.setMonoChromatic(100, \"keV\", 500);"
   ]
  },
  {
   "cell_type": "code",
   "execution_count": 29,
   "metadata": {},
   "outputs": [
    {
     "name": "stdout",
     "output_type": "stream",
     "text": [
      "Set up the detector\n"
     ]
    },
    {
     "name": "stderr",
     "output_type": "stream",
     "text": [
      "\n"
     ]
    }
   ],
   "source": [
    "# Set up the detector\n",
    "print(\"Set up the detector\");\n",
    "gvxr.setDetectorPosition(30.0, 0.0, 0.0, \"cm\");\n",
    "gvxr.setDetectorUpVector(0, 0, -1);\n",
    "gvxr.setDetectorNumberOfPixels(320, 320);\n",
    "gvxr.setDetectorPixelSize(1.5, 1.5, \"mm\");"
   ]
  },
  {
   "cell_type": "code",
   "execution_count": 71,
   "metadata": {},
   "outputs": [
    {
     "name": "stdout",
     "output_type": "stream",
     "text": [
      "Create the samples\n",
      "Set the material properties\n"
     ]
    }
   ],
   "source": [
    "# Create the copper cube\n",
    "print(\"Create the samples\");\n",
    "gvxr.removePolygonMeshesFromSceneGraph()\n",
    "gvxr.makeCube(\"copper\", X_Cu, \"cm\");\n",
    "\n",
    "print(\"Set the material properties\");\n",
    "gvxr.setElement(\"copper\", \"Cu\");"
   ]
  },
  {
   "cell_type": "code",
   "execution_count": 72,
   "metadata": {},
   "outputs": [
    {
     "name": "stdout",
     "output_type": "stream",
     "text": [
      "Compute an X-ray image of copper\n"
     ]
    }
   ],
   "source": [
    "# Compute an X-ray image\n",
    "print(\"Compute an X-ray image of copper\");\n",
    "gvxr.removePolygonMeshesFromXRayRenderer();\n",
    "gvxr.addPolygonMeshAsInnerSurface(\"copper\");\n",
    "\n",
    "# # Get the image (energy fluence)\n",
    "# x_ray_image_copper = np.array(gvxr.computeXRayImage());\n",
    "\n",
    "# # Convert the image from MeV into keV\n",
    "# x_ray_image_copper /= gvxr.getUnitOfEnergy(\"MeV\")\n",
    "\n",
    "# # Get the number of photons rather than the energy fluence\n",
    "# x_ray_image_copper /= 100 * gvxr.getUnitOfEnergy(\"keV\")\n",
    "\n",
    "# Get the image (number of photons)\n",
    "x_ray_image_copper = np.array(gvxr.computeXRayImage(False));"
   ]
  },
  {
   "cell_type": "code",
   "execution_count": 77,
   "metadata": {},
   "outputs": [
    {
     "data": {
      "text/plain": [
       "<matplotlib.image.AxesImage at 0x7f73a1bcd130>"
      ]
     },
     "execution_count": 77,
     "metadata": {},
     "output_type": "execute_result"
    },
    {
     "data": {
      "application/vnd.jupyter.widget-view+json": {
       "model_id": "134573761ddb4140b989f5010dcc271b",
       "version_major": 2,
       "version_minor": 0
      },
      "image/png": "[encoded data removed]",
      "text/html": [
       "\n",
       "            <div style=\"display: inline-block;\">\n",
       "                <div class=\"jupyter-widgets widget-label\" style=\"text-align: center;\">\n",
       "                    Figure\n",
       "                </div>\n",
       "                <img src='data:image/png;base64,iVBORw0KGgoAAAANSUhEUgAAAoAAAAHgCAYAAAA10dzkAAAAOXRFWHRTb2Z0d2FyZQBNYXRwbG90bGliIHZlcnNpb24zLjUuMiwgaHR0cHM6Ly9tYXRwbG90bGliLm9yZy8qNh9FAAAACXBIWXMAAA9hAAAPYQGoP6dpAAAga0lEQVR4nO3df6zV9X3H8Rc/DwK9d/KjoPbaaESNVH60c3gFem+tOqY00qCuE62yzanb/nBNuwbSWAsNZLW1WdM/Grt4KUu1MBfr0jRxkCogaIYMFujNEBOpGOkU77jnUuu9eP3uD+OtVGo7yr1X7ufxSL7JPeee8z3vT743J0++5xzOsKqqqgAAUIzhgz0AAAADSwACABRGAAIAFEYAAgAURgACABRGAAIAFEYAAgAURgACABRGAAIAFEYAAgAURgACABRGAAIAFEYAAgAURgACABRGAAIAFEYAAgAURgACABRGAAIAFEYAAgAURgACABRGAAIAFEYAAgAURgACABRGAAIAFEYAAgAURgACABRGAAIAFEYAAgAURgACABRGAAIAFEYAAgAURgACABRGAAIAFEYAAgAURgACABRGAAIAFEYAAgAURgACABRGAAIAFEYAAgAURgACJ80jjzySYcOG5bnnnuu7bteuXfnxj3/cd/mJJ57Itm3bBnSuNWvW5KWXXuq7/Jd/+Zdpb2/vt8d7+eWXc8kll2T27NkDvlaA34UABE6ahx56KPPmzcsPfvCDvuvejwH4T//0T7nooov67fF+8pOfZObMmdm5c2cuu+yyfnucE/XGG28M9gjAIBOAwElx5MiRbNu2Ld/97nfz0EMPJUl6enpy9913Z926dZk1a1b+4R/+Id/5znfyzW9+M7NmzcqWLVvyyiuvZPHixfnDP/zDXHLJJdm6dWuS5J577snSpUvT2tqac889N9/97neTvBWQCxcu7HvcW2+9NQ8//HCSZMWKFbnkkkvykY98JH/1V3+Vqqry8MMP55lnnsmSJUsya9as/PKXv0xra2ueeeaZJG9F68UXX5yPfOQj+eIXv9i33/Hjx2f58uWZMWNG5s2bl46Ojnet+Wc/+1k++clPZsaMGfnkJz+ZF154Ibt27crf//3f59FHH+17vHfavn17LrvsssycOTNz5szJa6+9ltdffz1Lly7NxRdfnNmzZ+fxxx9P8la4XnvttfnEJz6RCy64IF/96leTJPv378+FF16Ym266KRdddFFuuOGGvsfZsWNHWlpa8tGPfjR//Md/nIMHDyZJWltbs3z58rS0tOTb3/7273m0gVNeBXAS/PM//3P1F3/xF1VVVdUll1xS/dd//VdVVVXV1tZW/c3f/E3f7b785S9X9957b9/lP/uzP6u2bNlSVVVVPf/889WFF17Yd7u5c+dWPT091YsvvlhNmjSpqqqqevzxx6trrrmm7/633HJL9S//8i9VVVXVq6++2nf9Zz/72erf/u3fqqqqqpaWlmr79u19v3v78ksvvVQ1NTVVL7/8cnX06NHqiiuuqH74wx9WVVVVSaof//jHVVVV1Z133ll985vffNeaP/WpT1Vr1qypqqqq1qxZUy1atOi4a35bd3d3de6551Y7duyoqqqqDh8+XL3xxhvVN77xjerWW2+tqqqq9u7dW334wx+uXn/99aqtra0644wzqldffbX65S9/Wc2aNavasWNH9fzzz1dJqm3btlVVVVW33357dd9991U9PT3VpZdeWv3P//xPVVVV9eCDD1ZLly7tW/Odd975rpmAMjkDCJwUDz30UD7zmc8kST7zmc/0nQX8bTZu3Ji//du/zaxZs7Jo0aLU6/V0dXUlSf7kT/4ko0aNyllnnZUxY8bk8OHD77mvJ554InPmzMnFF1+cjRs35qc//el73v4//uM/0tramsmTJ2fkyJG56aabsmnTpiTJ6NGjs2DBgiTJxz72sezfv/9d99+6dWtuvPHGJMlNN93Ud/byN9m7d2/OOOOMfPSjH02SNDY2ZsSIEdmyZUtuvvnmJMn555+fc845J3v37k2SXHnllZkwYULGjBmTT3/609myZUuS5Oyzz05zc3OS5MYbb8zmzZuzd+/e/PSnP81VV12VWbNmZdWqVXnxxRf7Hv9P//RP33M+oBwjB3sA4NT36quv5ic/+Un27NmTYcOG5Y033sjo0aOzatWq33rfN998M0899VROO+20d/2uVqv1/TxixIi88cYbGTlyZN58882+67u7u5Mkr7/+eu68884888wzaWpqysqVK/P666+/52NXVfUbfzdq1KgMGzbsmMf+dW///jddPt7jHe827zXH/0dVVZk+fXqeeuqp4/5+3LhxJ+VxgFOfM4DA7+3hhx/OLbfckp/97GfZv39/XnzxxXzoQx/K008/nQ984AN9Z/SSvOvyVVdddcx70nbt2vWej/XhD384//3f/52enp787//+bzZv3pwkfbE3adKk/OIXv+h7X+DxHvNtc+bMyaZNm3Lo0KH09vbmwQcfTEtLy++87ssuu6zvAy8PPvjgb/3Ax4UXXpiXXnqpb431ej29vb35+Mc/nu9///tJkueeey7PP/98LrjggiTJhg0b0tHRkddffz2PPPJI5s+fnyR54YUX+kLvwQcfzMc//vFccMEFeeWVV/quP3r06G89CwqUSQACv7eHHnooixcvPua6T3/603nwwQfT2tqa9vb2zJo1K+vWrcunPvWpPPLII30fAvnWt76VZ555JjNmzMhFF12U73znO+/5WE1NTbnuuusyY8aM/Pmf/3lmz56dJPmDP/iD3Hbbbbn44otz7bXX5pJLLum7z6233po77rjjXR/KOOOMM7J69ep84hOfyMyZMzNz5sxce+21v/O6v/Wtb6WtrS0zZszImjVr8o//+I/vefvRo0fnBz/4Qe64447MnDkzV111Vbq7u/PXf/3X6e3tzcUXX5zrr78+bW1tfWc/582bl5tuuimzZs3K4sWL+14+vvDCC9PW1paZM2fm1VdfzR133JHRo0fn4Ycfzhe/+MXMnDkzs2bN8t/QAMc1rDpZrz0AcFKtWbMmzzzzzLs+tbt///4sXLgwe/bsGaTJgFOdM4AAAIVxBhAAoDDOAAIAFEYAAgAURgACABRGAJIk+fznP5/58+dnyZIl6enpGexxAIB+JADJzp078/Of/zxbtmzJRRdddMx/oAsADD2+Co489dRTueqqq5IkCxYsSFtbW9/3m76tu7u77yu3kre+vqujoyMTJ078rV9/BcD7T1VV6erqyplnnpnhw50PKo0AJIcPH86ZZ56Z5K0vp+/o6HjXbVavXp2vfOUrAz0aAP3swIED+dCHPjTYYzDABCA5/fTTU6/Xk7wVgxMmTHjXbZYtW5bPfe5zfZc7Oztz9tln58CBA2loaBiwWQE4Oer1epqamvKBD3xgsEdhEAhAcumll+Yb3/hGPvvZz+axxx7L3Llz33WbWq3W992k79TQ0CAAAU5h3sZTJi/6k9mzZ2fq1KmZP39+2tvbs3jx4sEeCQDoR84AkiT5+te/PtgjAAADxBlAAIDCCEAAgMIIQACAwghAAIDCCEAAgMIIQACAwghAAIDCCEAAgMIIQACAwghAAIDCCEAAgMIIQACAwghAAIDCCEAAgMIIQACAwghAAIDCCEAAgMIIQACAwghAAIDCCEAAgMIIQACAwghAAIDCCEAAgMIIQACAwghAAIDCCEAAgMIIQACAwghAAIDCCEAAgMIIQACAwghAAIDCCEAAgMIIQACAwghAAIDCCEAAgMIIQACAwghAAIDCCEAAgMIIQACAwghAAIDCCEAAgMIIQACAwghAAIDCCEAAgMIIQACAwghAAIDCCEAAgMIIQACAwghAAIDCCMDC7N+/P5MnT05ra2taW1vzyiuvZN26dWlubs7ll1+eAwcODPaIAEA/GznYAzDwWlpa8vDDDydJjh49mvvuuy9btmzJ9u3bs3Llytx///2DPCEA0J+cASzQ1q1bM3/+/CxfvjzPPvtspk+fntGjR2fu3LnZvXv3YI8HAPQzZwALc8YZZ+S5557L2LFjc9ttt+XRRx9NQ0ND3+97e3uPe7/u7u50d3f3Xa7X6/0+KwDQP5wBLEytVsu4ceMybNiwLF68ODt37jwm5kaMGHHc+61evTqNjY19W1NT00CNDACcZAKwMF1dXX0/b968OQsXLkx7e3t6enqydevWzJgx47j3W7ZsWTo7O/s2HxYBgFOXl4AL8+STT+ZLX/pSxo4dm3POOScrV65MrVZLS0tLxowZk7Vr1x73frVaLbVabYCnBQD6w7CqqqrBHoJTT71eT2NjYzo7O495DyEApwbP42XzEjAAQGEEIABAYQQgAEBhBCAAQGEEIABAYQQgAEBhBCAAQGEEIABAYQQgAEBhBCAAQGEEIABAYQQgAEBhBCAAQGEEIABAYQQgAEBhBCAAQGEEIABAYQQgAEBhBCAAQGEEIABAYQQgAEBhBCAAQGEEIABAYQQgAEBhBCAAQGEEIABAYQQgAEBhBCAAQGEEIABAYQQgAEBhBCAAQGEEIABAYQQgAEBhBCAAQGEEIABAYQQgAEBhBCAAQGEEIABAYQQgAEBhBCAAQGEEIABAYQQgAEBhBCAAQGEEIABAYQQgAEBhBCAAQGEEIABAYQQgAEBhBCAAQGEEIABAYQTgENbV1ZU5c+Zk/Pjx2bNnT5Jk3bp1aW5uzuWXX54DBw4kSdrb2zNv3rw0Nzdn48aNgzkyADAABOAQdtppp+VHP/pRrrvuuiTJ0aNHc99992XTpk1ZuXJlVq5cmSRZvnx52tra8thjj+Xuu+8ezJEBgAEgAIewkSNHZvLkyX2X9+3bl+nTp2f06NGZO3dudu/enSQ5ePBgpk2bloaGhkycODGHDh0arJEBgAEwcrAHYOAcPnw4DQ0NfZd7e3uTJFVV9V3X2NiYjo6OTJo06Zj7dnd3p7u7u+9yvV7v52kBgP7iDGBBTj/99GPCbcSIEUmS4cN/9Wdw+PDhTJgw4V33Xb16dRobG/u2pqam/h8YAOgXArAg5513Xtrb29PT05OtW7dmxowZSZKpU6dm3759qdfrxz37lyTLli1LZ2dn3/b2B0gAgFOPl4CHuKuvvjq7du3K3r17c/vtt+euu+5KS0tLxowZk7Vr1yZJVq1alaVLl6a3tzcrVqw47n5qtVpqtdpAjg4A9JNh1TvfAAa/o3q9nsbGxnR2dh7zvkIATg2ex8vmJWAAgMIIQACAwghAAIDCCEAAgMIIQACAwghAAIDCCEAAgMIIQACAwghAAIDCCEAAgMIIQACAwghAAIDCCEAAgMIIQACAwghAAIDCCEAAgMIIQACAwghAAIDCCEAAgMIIQACAwghAAIDCCEAAgMIIQACAwghAAIDCCEAAgMIIQACAwghAAIDCCEAAgMIIQACAwghAAIDCCEAAgMIIQACAwghAAIDCCEAAgMIIQACAwghAAIDCCEAAgMIIQACAwghAAIDCCEAAgMIIQACAwghAAIDCCEAAgMIIQACAwghAAIDCCEAAgMIIQACAwghAAIDCCEAAgMIIQACAwgjAIayrqytz5szJ+PHjs2fPniTJtGnT0tramtbW1mzYsCFJ0t7ennnz5qW5uTkbN24czJEBgAEwcrAHoP+cdtpp+dGPfpQvfOELfdc1NjbmiSeeOOZ2y5cvT1tbW6ZMmZIFCxbkiiuuGOBJAYCB5AzgEDZy5MhMnjz5mOuOHDmSlpaW3Hjjjeno6EiSHDx4MNOmTUtDQ0MmTpyYQ4cOvWtf3d3dqdfrx2wAwKlJABZm69at2bRpUxYsWJB77rknSVJVVd/vGxsb+8LwnVavXp3Gxsa+rampaaBGBgBOMgFYmIkTJyZJrr/++uzatStJMnz4r/4MDh8+nAkTJrzrfsuWLUtnZ2ffduDAgQGZFwA4+bwHsCA9PT2pqiq1Wi2bN2/OeeedlySZOnVq9u3blylTpqSjoyOTJk16131rtVpqtdpAjwwA9AMBOMRdffXV2bVrV/bu3ZtFixZl/fr1GTduXGq1Wh544IEkyapVq7J06dL09vZmxYoVgzwxANDfhlXvfAMY/I7q9XoaGxvT2dmZhoaGwR4HgP8nz+Nl8x5AAIDCeAkYIMnXv/71PP300+95m7lz5+bv/u7vBmgigP4jAAGSPP300/nXf/3X97zNyJGeMoGhwUvAAACFEYAAAIURgAAAhRGAAACFEYAAAIURgAAAhRGAAACF8Z9aASS57LLLMmLEiPe8TXNz8wBNA9C/BCBAks997nODPQLAgPESMABAYQQgAEBhBCAAQGEEIABAYQQgAEBhBCAAQGEEIABAYQQgAEBhBCAAQGEEIABAYQQgAEBhBCAAQGEEIABAYQQgAEBhBCAAQGEEIABAYQQgAEBhBCAAQGEEIABAYQQgAEBhBCAAQGEEIABAYQQgAEBhBCAAQGEEIABAYQQgAEBhBCAAQGEEIABAYQQgAEBhBCAAQGEEIABAYQQgAEBhBCAAQGEEIABAYQQgAEBhBCAAQGEEIABAYQQgAEBhBOAQtWPHjsyfPz8tLS254YYbcvTo0axbty7Nzc25/PLLc+DAgSRJe3t75s2bl+bm5mzcuHGQpwYABsKwqqqqwR6Ck+/nP/95GhoaMnbs2CxfvjyzZ8/O17/+9WzZsiXbt2/P9773vdx///1ZtGhR7r333kyZMiULFizItm3bfqf91+v1NDY2prOzMw0NDf28GgBONs/jZXMGcIiaOnVqxo4dmyQZNWpUnn322UyfPj2jR4/O3Llzs3v37iTJwYMHM23atDQ0NGTixIk5dOjQcffX3d2der1+zAYAnJoE4BD3wgsvZOPGjZk3b94x/8Lr7e1NkrzzBHBjY2M6OjqOu5/Vq1ensbGxb2tqaurfwQGAfiMAh7B6vZ6bb745bW1t+eAHP3jMWbsRI0YkSYYP/9WfwOHDhzNhwoTj7mvZsmXp7Ozs295+DyEAcOoZOdgD0D96e3uzZMmS3H333Tn//PNz9OjRtLe3p6enJ9u3b8+MGTOSvPVS8b59+zJlypR0dHRk0qRJx91frVZLrVYbyCUAAP1EAA5R69evz7Zt29LV1ZWVK1fmzjvvzF133ZWWlpaMGTMma9euTZKsWrUqS5cuTW9vb1asWDHIUwMAA8GngDkhPj0GcGrzPF427wEEACiMAAQAKIwABAAojAAEACiMAAQAKIwABAAojAAEACiMAAQAKIwABAAojAAEACiMAAQAKIwABAAojAAEACiMAAQAKIwABAAojAAEACiMAAQAKIwABAAojAAEACiMAAQAKIwABAAojAAEACiMAAQAKIwABAAojAAEACiMAAQAKIwABAAojAAEACiMAAQAKIwABAAojAAEACiMAAQAKIwABAAojAAEACiMAAQAKIwABAAojAAEACiMAAQAKIwABAAojAAEACiMAAQAKIwABAAojAAEACiMAAQAKIwABAAojAAEACiMAAQAKIwABAAojAAEACiMAByiduzYkfnz56elpSU33HBDjh49mmnTpqW1tTWtra3ZsGFDkqS9vT3z5s1Lc3NzNm7cOMhTAwADYeRgD0D/OOuss/LYY49l7NixWb58eX74wx+msbExTzzxxDG3W758edra2jJlypQsWLAgV1xxxeAMDAAMGGcAh6ipU6dm7NixSZJRo0Zl5MiROXLkSFpaWnLjjTemo6MjSXLw4MFMmzYtDQ0NmThxYg4dOjSYYwMAA0AADnEvvPBCNm7cmIULF2br1q3ZtGlTFixYkHvuuSdJUlVV320bGxv7wvDXdXd3p16vH7MBAKcmATiE1ev13HzzzWlra8uoUaMyceLEJMn111+fXbt2JUmGD//Vn8Dhw4czYcKE4+5r9erVaWxs7Nuampr6fX4AoH8IwCGqt7c3S5Ysyd13353zzz8/PT096e7uTpJs3rw55513XpK3Xiret29f6vV6Ojo6MmnSpOPub9myZens7OzbDhw4MGBrAQBOLh8CGaLWr1+fbdu2paurKytXrsydd96Zr33taxk3blxqtVoeeOCBJMmqVauydOnS9Pb2ZsWKFb9xf7VaLbVabaDGBwD60bDqnW8Cg99RvV5PY2NjOjs709DQMNjjAPD/5Hm8bF4CBgAojAAEACiMAAQAKIwABAAojAAEACiMAAQAKIwABAAojAAEACiMAAQAKIwABAAojAAEACiMAAQAKIwABAAojAAEACiMAAQAKIwABAAojAAEACiMAAQAKIwABAAojAAEACiMAAQAKIwABAAojAAEACiMAAQAKIwABAAojAAEACiMAAQAKIwABAAojAAEACiMAAQAKIwABAAojAAEACiMAAQAKIwABAAojAAEACiMAAQAKIwABAAojAAEACiMAAQAKIwABAAojAAEACiMAAQAKIwABAAojAAEACiMAAQAKIwABAAojAAEACiMAAQAKIwABAAojAAEACiMAByi9uzZk7lz56alpSXXXHNNjhw5knXr1qW5uTmXX355Dhw4kCRpb2/PvHnz0tzcnI0bNw7y1ADAQBhWVVU12ENw8h09ejSjRo1KknzlK1/Jueeem29/+9vZsmVLtm/fnu9973u5//77s2jRotx7772ZMmVKFixYkG3btv1O+6/X62lsbExnZ2caGhr6cykA9APP42VzBnCIejv+kuS1117L2WefnenTp2f06NGZO3dudu/enSQ5ePBgpk2bloaGhkycODGHDh0arJEBgAEiAIewDRs2ZPbs2Xn88cczatSoY/6F19vbmyR55wngxsbGdHR0HHdf3d3dqdfrx2wAwKlJAA5hV155ZXbu3JnrrrsumzZtOibaRowYkSQZPvxXfwKHDx/OhAkTjruv1atXp7GxsW9ramrq3+EBgH4jAIeo7u7uvp8bGxszfvz4tLe3p6enJ1u3bs2MGTOSJFOnTs2+fftSr9fT0dGRSZMmHXd/y5YtS2dnZ9/29odIAIBTz8jBHoD+sWHDhtx7770ZPnx4Jk+enDVr1mTy5MlpaWnJmDFjsnbt2iTJqlWrsnTp0vT29mbFihW/cX+1Wi21Wm2gxgcA+pFPAXNCfHoM4NTmebxsXgIGACiMAAQAKIwABAAojAAEACiMAAQAKIwABAAojAAEACiMAAQAKIwABAAojAAEACiMAAQAKIwABAAojAAEACiMAAQAKIwABAAojAAEACiMAAQAKMzIwR6AU1NVVUmSer0+yJMAcCLefv5++/mcsghATkhXV1eSpKmpaZAnAeD30dXVlcbGxsEegwE2rJL+nIA333wze/fuzUUXXZQDBw6koaFhsEfqN/V6PU1NTUN6nSWsMbHOoaaEdfbnGquqSldXV84888wMH+4dYaVxBpATMnz48Jx11llJkoaGhiH75PtOJayzhDUm1jnUlLDO/lqjM3/lkvwAAIURgAAAhRGAnLBarZYvf/nLqdVqgz1KvyphnSWsMbHOoaaEdZawRgaHD4EAABTGGUAAgMIIQACAwghAAIDCCEBO2Oc///nMnz8/S5YsSU9Pz2CPc9Ls378/kydPTmtra1pbW/PKK69k3bp1aW5uzuWXX54DBw4M9ognrKurK3PmzMn48eOzZ8+eJDnu2trb2zNv3rw0Nzdn48aNgznyCTneOqdNm9Z3TDds2JDk1F/njh07Mn/+/LS0tOSGG27I0aNHh9zxPN4ah+Kx3LNnT+bOnZuWlpZcc801OXLkyJA7lrzPVHAC/vM//7NasmRJVVVV9dWvfrX6/ve/P8gTnTzPP/98tXjx4r7LPT091R/90R9V3d3d1ZNPPlnddtttgzjd7+fo0aPVyy+/XN1yyy3V7t27f+Parr322urZZ5+tOjs7q+bm5kGe+v/v19dZVVX1sY997F23O9XXefDgweoXv/hFVVVVtWzZsmr9+vVD7ngeb41D8Vj29PT0/XzPPfdUa9euHXLHkvcXZwA5IU899VSuuuqqJMmCBQuybdu2QZ7o5Nq6dWvmz5+f5cuX59lnn8306dMzevTozJ07N7t37x7s8U7YyJEjM3ny5L7L+/btO+7aDh48mGnTpqWhoSETJ07MoUOHBmvkE/Lr60ySI0eOpKWlJTfeeGM6OjqSnPrrnDp1asaOHZskGTVq1G/8Wz2V1/nraxw5cuSQPJajRo3q+/m1117L2WefPeSOJe8vApATcvjw4b6vJWpsbOx7Eh4KzjjjjDz33HPZvHlzXn755Tz66KPHfAVTb2/vIE53cr3zOCa/Wlv1jv8daqgc361bt2bTpk1ZsGBB7rnnniRDZ50vvPBCNm7cmHnz5g3Z4/n2GhcuXDhkj+WGDRsye/bsPP744xk1atSQPZa8PwhATsjpp5+eer2e5K2ImDBhwiBPdPLUarWMGzcuw4YNy+LFi7Nz586+tSbJiBEjBnG6k+udxzH51dre+cXwQ+X4Tpw4MUly/fXXZ9euXUmGxjrr9XpuvvnmtLW15YMf/OCQPJ7vXOOoUaOG7LG88sors3Pnzlx33XXZtGnTkDyWvH8IQE7IpZdemn//939Pkjz22GOZO3fuIE908nR1dfX9vHnz5ixcuDDt7e3p6enJ1q1bM2PGjEGc7uQ677zzjru2qVOnZt++fanX6+no6MikSZMGedLfT09PT7q7u5O8dUzPO++8JKf+Ont7e7NkyZLcfffdOf/884fk8fz1NQ7VY/n2mpK3zuyNHz9+yB1L3l9GDvYAnJpmz56dqVOnZv78+Tn77LPzhS98YbBHOmmefPLJfOlLX8rYsWNzzjnnZOXKlanVamlpacmYMWOydu3awR7x93L11Vdn165d2bt3b26//fbcdddd71rbqlWrsnTp0vT29mbFihWDPPGJeec6Fy1alPXr12fcuHGp1Wp54IEHkpz661y/fn22bduWrq6urFy5MnfeeeeQO57HW+PXvva1IXcsN2zYkHvvvTfDhw/P5MmTs2bNmkyePHlIHUveX3wVHABAYbwEDABQGAEIAFAYAQgAUBgBCABQGAEIAFAYAQgAUBgBCABQGAEIAFAYAQgAUBgBCABQGAEIAFAYAQgAUBgBCABQGAEIAFAYAQgAUBgBCABQGAEIAFAYAQgAUBgBCABQGAEIAFAYAQgAUBgBCABQGAEIAFAYAQgAUBgBCABQGAEIAFAYAQgAUBgBCABQGAEIAFAYAQgAUBgBCABQGAEIAFAYAQgAUBgBCABQGAEIAFCY/wO7qg9UQpQcagAAAABJRU5ErkJggg==' width=640.0/>\n",
       "            </div>\n",
       "        "
      ],
      "text/plain": [
       "Canvas(toolbar=Toolbar(toolitems=[('Home', 'Reset original view', 'home', 'home'), ('Back', 'Back to previous …"
      ]
     },
     "metadata": {},
     "output_type": "display_data"
    }
   ],
   "source": [
    "%matplotlib widget\n",
    "\n",
    "plt.figure()\n",
    "plt.title(\"Attenuation of copper\")\n",
    "plt.imshow(x_ray_image_copper, cmap=\"gray\")"
   ]
  },
  {
   "cell_type": "code",
   "execution_count": 74,
   "metadata": {},
   "outputs": [
    {
     "name": "stdout",
     "output_type": "stream",
     "text": [
      "Create the samples\n",
      "Set the material properties\n"
     ]
    }
   ],
   "source": [
    "# Create the water cube\n",
    "print(\"Create the samples\");\n",
    "gvxr.makeCube(\"water\", X_H2O, \"cm\");\n",
    "\n",
    "print(\"Set the material properties\");\n",
    "gvxr.setCompound(\"water\", \"H2O\");\n",
    "gvxr.setDensity(\"water\", 1, \"g.cm-3\");"
   ]
  },
  {
   "cell_type": "code",
   "execution_count": 75,
   "metadata": {},
   "outputs": [
    {
     "name": "stdout",
     "output_type": "stream",
     "text": [
      "Compute an X-ray image of water\n"
     ]
    }
   ],
   "source": [
    "# Compute an X-ray image\n",
    "print(\"Compute an X-ray image of water\");\n",
    "gvxr.removePolygonMeshesFromXRayRenderer();\n",
    "gvxr.addPolygonMeshAsInnerSurface(\"water\");\n",
    "\n",
    "# # Get the image (energy fluence)\n",
    "# x_ray_image_copper = np.array(gvxr.computeXRayImage());\n",
    "\n",
    "# # Convert the image from MeV into keV\n",
    "# x_ray_image_copper /= gvxr.getUnitOfEnergy(\"MeV\")\n",
    "\n",
    "# # Get the number of photons rather than the energy fluence\n",
    "# x_ray_image_copper /= 100 * gvxr.getUnitOfEnergy(\"keV\")\n",
    "\n",
    "# Get the image (number of photons)\n",
    "x_ray_image_water = np.array(gvxr.computeXRayImage(False));"
   ]
  },
  {
   "cell_type": "code",
   "execution_count": 76,
   "metadata": {},
   "outputs": [
    {
     "data": {
      "text/plain": [
       "<matplotlib.image.AxesImage at 0x7f73a1b5daf0>"
      ]
     },
     "execution_count": 76,
     "metadata": {},
     "output_type": "execute_result"
    },
    {
     "data": {
      "application/vnd.jupyter.widget-view+json": {
       "model_id": "e6bb50eb59814513a76728a17d1120df",
       "version_major": 2,
       "version_minor": 0
      },
      "image/png": "[encoded data removed]",
      "text/html": [
       "\n",
       "            <div style=\"display: inline-block;\">\n",
       "                <div class=\"jupyter-widgets widget-label\" style=\"text-align: center;\">\n",
       "                    Figure\n",
       "                </div>\n",
       "                <img src='data:image/png;base64,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' width=640.0/>\n",
       "            </div>\n",
       "        "
      ],
      "text/plain": [
       "Canvas(toolbar=Toolbar(toolitems=[('Home', 'Reset original view', 'home', 'home'), ('Back', 'Back to previous …"
      ]
     },
     "metadata": {},
     "output_type": "display_data"
    }
   ],
   "source": [
    "%matplotlib widget\n",
    "\n",
    "\n",
    "plt.figure()\n",
    "plt.title(\"Attenuation of water\")\n",
    "plt.imshow(x_ray_image_water, cmap=\"gray\")"
   ]
  },
  {
   "cell_type": "code",
   "execution_count": 78,
   "metadata": {},
   "outputs": [],
   "source": [
    "# Display the 3D scene (no event loop)\n",
    "gvxr.displayScene();\n",
    "\n",
    "# Display the 3D scene (no event loop)\n",
    "# Run an interactive loop\n",
    "# (can rotate the 3D scene and zoom-in)\n",
    "# Keys are:\n",
    "# Q/Escape: to quit the event loop (does not close the window)\n",
    "# B: display/hide the X-ray beam\n",
    "# W: display the polygon meshes in solid or wireframe\n",
    "# N: display the X-ray image in negative or positive\n",
    "# H: display/hide the X-ray detector\n",
    "gvxr.renderLoop();"
   ]
  },
  {
   "cell_type": "markdown",
   "metadata": {},
   "source": [
    "# How are X-rays produced?\n",
    "\n",
    "Write slides"
   ]
  },
  {
   "cell_type": "markdown",
   "metadata": {},
   "source": [
    "# X-ray spectrum\n",
    "\n",
    "The simulation software below makes it possible to calculate spectra as generated by the [X-ray generators](https://www.creatis.insa-lyon.fr/~letang/x-ray-book/instrumentation.html#x-ray-production) by specifying:\n",
    "- the high voltage U of electrons acceleration,\n",
    "- the thickness and the nature of the plate inserted.\n",
    "\n",
    "Certain quantities associated with the spectra are calculated at output in particular\n",
    "- the average energy of the photons of the spectrum,\n",
    "- the half-value layer (in mm of Al)."
   ]
  },
  {
   "cell_type": "code",
   "execution_count": 79,
   "metadata": {},
   "outputs": [
    {
     "data": {
      "application/vnd.jupyter.widget-view+json": {
       "model_id": "3b7f26b655e346e7ad863c71cf41ad74",
       "version_major": 2,
       "version_minor": 0
      },
      "text/plain": [
       "interactive(children=(IntText(value=100, description='High voltage (kV):', style=DescriptionStyle(description_…"
      ]
     },
     "metadata": {},
     "output_type": "display_data"
    }
   ],
   "source": [
    "%matplotlib widget\n",
    "import ipywidgets as widgets\n",
    "import utilities\n",
    "widgets.interact_manual(utilities.spectrum,E0=widgets.IntText(value=100,step=1,description=\"High voltage (kV):\",disabled=False,style={'description_width': 'initial'}),Mat_Z=widgets.Dropdown(options=[('Water',-1),('Aluminium',13),('Copper',29),('Lead',82)],value=-1,layout={'width': 'max-content'},description='Material:',style={'description_width': 'initial'}),Mat_X=widgets.FloatText(value=0.,step=0.01,description=\"Thickness (mm):\",disabled=False,style={'description_width': 'initial'}));"
   ]
  },
  {
   "cell_type": "markdown",
   "metadata": {},
   "source": [
    "# Beer-Lambert Law in the polychromatic case\n",
    "\n",
    "- There are more than one energy in the incident beam spectrum\n",
    "- Just iterate over the energy channels:\n",
    "\n",
    "E<sub>out</sub> = &Sigma;<sub>j</sub> E<sub>j</sub> x N<sub>out</sub>(E<sub>j</sub>)\n",
    "\n",
    "E<sub>out</sub> = &Sigma;<sub>j</sub> E<sub>j</sub> x N<sub>in</sub>(E<sub>j</sub>) e<sup>(-&Sigma;<sub>i</sub> &mu;<sub>i</sub>(E<sub>j</sub>,&rho;,Z) L<sub>p</sub>(i))</sup>\n",
    "\n",
    "with j the j-th energy channel\n",
    "\n",
    "\n",
    "# Example (polychromatic case)\n",
    "\n",
    "See [http://gvirtualxray.sourceforge.net/validation/validation_05/beer_lambert_law_polychromatic.php](http://gvirtualxray.sourceforge.net/validation/validation_05/beer_lambert_law_polychromatic.php)"
   ]
  },
  {
   "cell_type": "markdown",
   "metadata": {},
   "source": []
  },
  {
   "cell_type": "markdown",
   "metadata": {},
   "source": []
  },
  {
   "cell_type": "markdown",
   "metadata": {},
   "source": [
    "# Path Length: Naive Approach\n",
    "\n",
    "![*Is finding intersections in the right order important?*](img/intersections.png)\n",
    "\n",
    "1. Detect every intersection between a ray and the objects;\n",
    "2. Sort intersection\n",
    "(Can be handled by GPUs using depth-peeling, a multi-pass rendering technique for semi-transparent polygonal objects without sorting polygons);\n",
    "3. Compute path length.\n",
    "\n",
    "\n",
    "# Path Length: L-Buffer\n",
    "\n",
    "![*Finding intersections in any order does not matter*](img/l-buffer.png)\n",
    "\n",
    "**Intersection sorting is actually not needed!**\n",
    "\n",
    "- By convention normals are outward;\n",
    "- A ray penetrates into an object when the dot product between the view vector (V) and the normal (N<sub>i</sub>) at the intersection point is positive;\n",
    "- It leaves an object when the dot product is negative.\n",
    "\n",
    "# L-Buffer Implementation\n",
    "\n",
    "L<sub>p</sub>=&Sigma;<sub>i</sub> - sng(V &middot; N<sub>i</sub>) x d<sub>i</sub>\n",
    "\n",
    "\n",
    "- i refers to i<sup>th</sup> intersection in an arbitrary order;\n",
    "- d<sub>i</sub> distance from X-ray source to intersection point;\n",
    "- sgn(V &middot; N<sub>i</sub>) stands for the sign of the dot product between V and N<sub>i</sub>;\n",
    "- In a shader program, compute:\n",
    "    - sgn(V &middot; N<sub>i</sub>);\n",
    "    - d<sub>i</sub> the distance between the X-ray source and the intersection;\n",
    "    - Assign -sng(V &middot; N<sub>i</sub>) x d<sub>i</sub> as the fragment value.\n",
    "- For each pixel, compute L<sub>p</sub> thanks to high-dynamic range and OpenGL blending function (pixel values may not be between 0 and 1).\n",
    "\n",
    "*See [http://dx.doi.org/10.2312/LocalChapterEvents/TPCG/TPCG09/025-032](DOI: 10.2312/LocalChapterEvents/TPCG/TPCG09/025-032) for more details.*\n",
    "\n",
    "\n",
    "# Multipass Rendering Pipeline\n",
    "\n",
    "pixel = E x N<sub>out</sub>\n",
    "\n",
    "pixel =  <span style=\"color:green\">E x N<sub>in</sub>(E) e</span><sup>(<span style=\"color:red\">-&Sigma;<sub>i</sub> &mu;<sub>i</sub> </span> <span style=\"color:blue\">  L<sub>p</sub>(i)</span>)</sup>\n",
    "\n",
    "- Needs 3 FBOs with high-dynamic range capability for off-line rendering:\n",
    "\n",
    "- For each object of the scene:\n",
    "  1. Compute L<sub>p</sub>(i);\n",
    "  2. Update results of &Sigma; &mu;<sub>i</sub> L<sub>p</sub>(i).\n",
    "- For the final image only:\n",
    "  1. Compute N<sub>out</sub>;\n",
    "  2. (Optional when direct display only is needed).\n",
    "\n",
    "![*OpenGL pipeline to compute the Beer-Lambert law (monochromatic case).*](img/pipeline1.png)\n",
    "\n",
    "# Adding the Beam Spectrum\n",
    "\n",
    "- Take into the different energies within the incident beam;\n",
    "- This is known as *beam hardening*;\n",
    "- Iterate over several energy channels:\n",
    "  - pixel = &Sigma;<sub>j</sub> E<sub>j</sub> x N<sub>out</sub>(E<sub>j</sub>)\n",
    "  - pixel = &Sigma;<sub>j</sub> E<sub>j</sub> x N<sub>in</sub>(E<sub>j</sub>) e<sup>(-&Sigma;<sub>i</sub> &mu;<sub>i</sub>(E<sub>j</sub>,&rho;,Z) d<sub>i</sub>)</sup>\n",
    "\n",
    "- Example:\n",
    "\n",
    "![*Simulation parameters*](img/figure3a.png)\n",
    "\n",
    "![*Polychromatic beam spectrum for 90kV X-ray tube peak voltage*](img/figure3b.png)\n",
    "\n",
    "![*Intensity profiles, see dash line in image above*](img/figure3c.png)\n",
    "\n",
    "\n",
    "# Simulation with Different Source Shapes\n",
    "\n",
    "- Take into account the focal spot of the X-ray source;\n",
    "- Iterate over several point sources within the volume of the focal spot:\n",
    "  - pixel = &Sigma;<sub>k</sub> &Sigma;<sub>j</sub> E<sub>j</sub> x N<sub>in</sub>(E<sub>j</sub>) e<sup>(-&Sigma;<sub>i</sub> &mu;<sub>i</sub>(E<sub>j</sub>,&rho;,Z) d<sub>i</sub>(k))</sup>\n",
    "  - See blur in the corresponding image below.\n",
    "\n",
    "\n",
    "| Parallel beam             |  Infinitely small point source | 1<sup>3</sup>mm source |\n",
    ":-------------------------:|:-------------------------:|:-------------------------:\n",
    "![](img/figure2a_top.png) |   ![](img/figure2b_top.png)  |   ![](img/figure2c_top.png)\n",
    "![](img/figure2a_bottom.png) | ![](img/figure2b_bottom.png)| ![](img/figure2c_bottom.png)\n",
    "\n",
    "\n",
    "\n",
    "\n",
    "# Final Simulation Flowchart\n",
    "\n",
    "- Iterate over several energy channels: Three extra for loops;\n",
    "- Iterate over several point sources within the volume of the focal spot: One extra for loop.\n",
    "\n",
    "![*Final OpenGL pipeline*](img/figure4.png)\n",
    "\n",
    "# Bibliography (links)\n",
    "\n",
    "- [DOI: 10.2312/LocalChapterEvents/TPCG/TPCG09/025-032](http://dx.doi.org/10.2312/LocalChapterEvents/TPCG/TPCG09/025-032)\n",
    "- [DOI: 10.1007/s11548-009-0367-1](http://dx.doi.org/10.1007/s11548-009-0367-1)\n",
    "- [DOI: 10.2312/egp.20101026](http://dx.doi.org/10.2312/egp.20101026)\n",
    "- [DOI: 10.1016/j.compmedimag.2015.12.002](https://doi.org/10.1016/j.compmedimag.2015.12.002)\n"
   ]
  },
  {
   "cell_type": "markdown",
   "metadata": {},
   "source": [
    "# Quantitative Validation\n",
    "\n",
    "- Simulating an image relies on a Beer-Lambert law implementation;\n",
    "- Solving the Beer-Lambert law relies on Linear Attenuation Coefficients; (&mu;)\n",
    "- &mu; is not known for given incident energies;\n",
    "- &mu; is computed using Mass Attenuation Coefficients (&mu;/&rho;) and material density (&rho;).\n",
    "- **Are the values used in gVirtualXRay accurate?**\n",
    "    - Compare values computed in gVirtualXRay with those from the literature.\n",
    "- **Are the Beer-Lambert law implementations accurate?**\n",
    "    - Compare values computed in gVirtualXRay with theoretical ones.\n",
    "- **Are the simulated images accurate?**\n",
    "    - Compare images computed using gVirtualXRay with those using a state-of-the-art Monte Carlo software, e.g.\n",
    "\n",
    "    [![Geant4](img/g4logo-web.png)](https://geant4.web.cern.ch/)\n",
    "\n",
    "\n",
    "# Density for Different Materials (human tissues) from the Literature\n",
    "![*Image from  W. Schneider, T. Bortfeld, and W. Schlegel, “Correlation between CT numbers and tissue parameters needed for Monte Carlo simulations of clinical dose distributions,” Physics in Medicine & Biology, vol. 45, no. 2, p. 459, 2000. doi:[10.1088/0031-9155/45/2/314](http://doi.org/10.1088/0031-9155/45/2/314)*](img/rho_reference.png)\n",
    "\n",
    "# Density for Different Materials (human tissues) computed by gVirtualXRay\n",
    "\n",
    "![*Image from [http://gvirtualxray.sourceforge.net/validation/validation_02/density.php](http://gvirtualxray.sourceforge.net/validation/validation_02/density.php)*](img/figure5b.png)\n",
    "\n",
    "\n",
    "\n",
    "\n",
    "\n",
    "# Mass Attenuation Coefficients\n",
    "\n",
    "- Any tissue can be described by its Hounsfiled Unit (HU):\n",
    "  - HU(material) = 1000 x (&mu;(material) - &mu;(water)) / &mu;(water)\n",
    "- Given a HU value for any simulated object;\n",
    "  - If &mu;(water) is known for any energy,\n",
    "  - then &mu;(material) for any HU and for any energy can be computed:\n",
    "    - &mu;(material, E) = &mu;(water, E) x (1 + HU(material)/1000)\n",
    "- \tMass attenuation coefficients (&mu;/&rho;) for various human tissues can be found in the literature;\n",
    "- \tThe density (&rho;) for various human tissues can be found in the literature.\n",
    "- **Linear attenuation coefficients can therefore be computed for various human tissues** and\n",
    "- **used to solve the Beer-Lambert law**\n",
    "\n",
    "# Mass Attenuation Coefficients: Tissue, Soft (ICRU-44)\n",
    "\n",
    "- ![*Image from [https://physics.nist.gov/PhysRefData/XrayMassCoef/ComTab/tissue.html](https://physics.nist.gov/PhysRefData/XrayMassCoef/ComTab/tissue.html)*](img/tissue.png)\n",
    "\n",
    "- &mu;(water) from literature is provided at given energies only: Interpolation needed for missing energies\n",
    "\n",
    "  - ![*Image computed with gVirtualXRay using linear interpolation*](img/test_soft_tissue_1.png)\n",
    "\n",
    "  - ![*Image computed with gVirtualXRay using interpolation in the log scale*](img/test_soft_tissue_2.png)\n",
    "\n",
    "\n",
    "# Mass Attenuation Coefficients: Bone, Cortical (ICRU-44)\n",
    "\n",
    "- ![*Image from [https://physics.nist.gov/PhysRefData/XrayMassCoef/ComTab/bone.html](https://physics.nist.gov/PhysRefData/XrayMassCoef/ComTab/bone.html)*](img/bone.png)\n",
    "\n",
    "- &mu;(water) from literature is provided at given energies only: Interpolation needed for missing energies\n",
    "\n",
    "  - ![*Image computed with gVirtualXRay using linear interpolation*](img/test_bone_1.png)\n",
    "\n",
    "  - ![*Image computed with gVirtualXRay using interpolation in the log scale*](img/test_bone_2.png)\n",
    "\n",
    "**Not a good match as the peaks are not visible in &mu;(water)**\n",
    "\n",
    "- ![*Image computed with gVirtualXRay using NIST's XCOM database*](img/test_bone_3.png)\n",
    "\n",
    "**This is now a good match**\n",
    "\n",
    "\n",
    "# Going back to previous slide\n",
    "\n",
    "- Simulating an image relies on a Beer-Lambert law implementation;\n",
    "- Solving the Beer-Lambert law relies on Linear Attenuation Coefficients; (&mu;)\n",
    "- &mu; is not known for given incident energies;\n",
    "- &mu; is computed using Mass Attenuation Coefficients (&mu;/&rho;) and material density (&rho;).\n",
    "- **Are the values used in gVirtualXRay accurate?**\n",
    "    - Compare values computed in gVirtualXRay with those from the literature.\n",
    "\n",
    "# Going back to previous slide\n",
    "\n",
    "- Simulating an image relies on a Beer-Lambert law implementation;\n",
    "- Solving the Beer-Lambert law relies on Linear Attenuation Coefficients; (&mu;)\n",
    "- &mu; is not known for given incident energies;\n",
    "- &mu; is computed using Mass Attenuation Coefficients (&mu;/&rho;) and material density (&rho;).\n",
    "- **Are the values used in gVirtualXRay accurate?**\n",
    "    - Compare values computed in gVirtualXRay with those from the literature.\n",
    "    - **YES**\n",
    "\n",
    "# More testing\n",
    "\n",
    "- **Are the Beer-Lambert law implementations accurate?**\n",
    "    - Compare values computed in gVirtualXRay with theoretical ones.\n",
    "- **Are the simulated images accurate?**\n",
    "    - Compare images computed using gVirtualXRay with those using a state-of-the-art Monte Carlo software, e.g.\n",
    "\n",
    "    [![Geant4](img/g4logo-web.png)](https://geant4.web.cern.ch/)\n",
    "\n",
    "\n",
    "# Test case\n",
    "\n",
    "- Simulated object\n",
    "\n",
    "  ![*Simulated object*](img/validation_3D_scene.png)\n",
    "\n",
    "  - Cube: edge length of 3 cm, made of soft tissue (HU = 52).\n",
    "  - Cylinder: height of 3 m, diameter of 2 cm, made of bone (HU = 1330).\n",
    "- Incident beam:\n",
    "\n",
    "| N: number of photons | E: energy (in MeV) |\n",
    "|----------------------|--------------------|\n",
    "| 10                   | 0.1                |\n",
    "| 20                   | 0.2                |\n",
    "| 10                   | 0.3                |\n",
    "\n",
    "\n",
    "# Beer-Lambert Law: Polychromatism Case\n",
    "\n",
    "- Use material properties from the literature;\n",
    "- The energy, I<sub>out</sub>, (in MeV) transmitted orthogonally throw the middle of cube and cylinder should be:\n",
    "  - I<sub>out</sub> = I<sub>out</sub>(0.1) + I<sub>out</sub>(0.2) + I<sub>out</sub>(0.3), with\n",
    "  - I<sub>out</sub>(0.1) =    10 x 0.1 x e<sup>-( 3.346E-01 x 2 + 1.799E-01 x 1)</sup>\n",
    "  - I<sub>out</sub>(0.2)  =    10 x 0.1 x e<sup>-( 2.361E-01 x 2 + 1.443E-01 x 1)</sup>\n",
    "  - I<sub>out</sub>(0.3)  =    10 x 0.1 x e<sup>-( 2.008E-01 x 2 + 1.249E-01 x 1)</sup>\n",
    "  - I<sub>out</sub> = 4.359\n",
    "- On GPU, the energy, I<sub>out<sub>gpu</sub></sub>, is: 4.353.\n",
    "   - The relative error is:\n",
    "   - |I<sub>out</sub> - I<sub>out<sub>gpu</sub></sub>| / I<sub>out</sub> = 0.1&percnt;\n",
    "\n",
    "# Gate vs. gVirtualXRay\n",
    "\n",
    "We simulate a test case twice:\n",
    "\n",
    "- Using a Monte Carlo method for particle physics implemented in [GATE](http://www.opengatecollaboration.org/);\n",
    "- Using our GPU implementation.\n",
    "\n",
    "*GATE is an opensource software developed by an international collaboration. Its focus is on Monte Carlo simulation in medical imaging and radiotherapy. GATE makes use of the Geant4 libraries. Geant 4 is CERN's Monte Carlo simulation platform dedicated to particle physics in nuclear research. CERN is the European Organization for Nuclear Research.*\n",
    "\n",
    "# Gate vs. gVirtualXRay: Point Source\n",
    "\n",
    "![*Simulation parameters*](img/POINT_SOURCE/scene.png)\n",
    "\n",
    "![*Image computed with GATE (2 weeks of computations on supercomputer)*](img/POINT_SOURCE/gate_norm.png)\n",
    "\n",
    "![*Image computed with gVirtualXRay (less than 1 sec. of computations on GPU)*](img/POINT_SOURCE/gpu_norm.png)\n",
    "\n",
    "Normalised cross-correlation (NCC) = 99.747&percnt;\n",
    "\n",
    "![*Profiles*](img/POINT_SOURCE/test_profile.png)\n",
    "\n",
    "# Gate vs. gVirtualXRay: Uncentered Source\n",
    "\n",
    "The source is translated by a vector: -5.0 0.5 0.5 cm\n",
    "\n",
    "![*Image computed with GATE (2 weeks of computations on supercomputer)*](img/UNCENTRED_SOURCE/gate_norm.png)\n",
    "\n",
    "![*Image computed with gVirtualXRay (less than 1 sec. of computations on GPU)*](img/UNCENTRED_SOURCE/gpu_norm.png)\n",
    "\n",
    "Normalised cross-correlation (NCC) = 99.656&percnt;\n",
    "\n",
    "![*Profiles*](img/UNCENTRED_SOURCE/test_profile.png)\n",
    "\n",
    "\n",
    "# Gate vs. gVirtualXRay: Cube Source\n",
    "\n",
    "The source is a 1x1x1 cm cube.\n",
    "\n",
    "![*Image computed with GATE (2 weeks of computations on supercomputer)*](img/CUBE_SOURCE/gate_norm.png)\n",
    "\n",
    "![*Image computed with gVirtualXRay (less than 1 sec. of computations on GPU)*](img/CUBE_SOURCE/gpu_norm.png)\n",
    "\n",
    "Normalised cross-correlation (NCC) = 99.743&percnt;\n",
    "\n",
    "![*Profiles*](img/CUBE_SOURCE/test_profile.png)\n",
    "\n",
    "\n",
    "# Unit tests\n",
    "\n",
    "- More validation test available, see [http://gvirtualxray.sourceforge.net/validation/validation_tests.php](http://gvirtualxray.sourceforge.net/validation/validation_tests.php)\n",
    "- To check that your system provides the results you expect,\n",
    "- Run the unit tests\n",
    "  - See next topic\n"
   ]
  },
  {
   "cell_type": "code",
   "execution_count": null,
   "metadata": {},
   "outputs": [],
   "source": []
  },
  {
   "cell_type": "code",
   "execution_count": null,
   "metadata": {},
   "outputs": [],
   "source": []
  },
  {
   "cell_type": "markdown",
   "metadata": {},
   "source": [
    "# Check that gVirtualXray is installed\n",
    "\n",
    "The wrapper for Python 3 is called \"gvxrPython3\". \n",
    "Where does the \"3\" come from? \n",
    "This is because few years ago there was also \"gvxrPython2\" for Python 2 but Python 2 is now deprecated, so is gvxrPython2. \n",
    "gvxrPython3 is a bit long, gvxr is defined as an alias as follows:"
   ]
  },
  {
   "cell_type": "code",
   "execution_count": 1,
   "metadata": {},
   "outputs": [],
   "source": [
    "from gvxrPython3 import gvxr"
   ]
  },
  {
   "cell_type": "markdown",
   "metadata": {},
   "source": [
    "gVirtualXray's source code is split into 3 components\n",
    "\n",
    "- **Core**: the C++ low-level programming interface. This is where all the core functionalities to simulate X-ray images are implemented. \n",
    "- **SimpleGVXR**: the C++ high-level programming interface. It is a subset of the core library. It also includes additional functionalities to create OpenGL contextes. It contains all we need to simulate X-ray images.\n",
    "- **Wrappers**: exposes SimpleGVXR to other programming languages, including Python 3, Octave, Java, C#, R, Tcl, GNU Octave, Perl and Ruby.\n",
    "\n",
    "Check the version of the core library as follows (as of today -- 6th April 2022 -- it is 1.1.5):"
   ]
  },
  {
   "cell_type": "code",
   "execution_count": 2,
   "metadata": {},
   "outputs": [
    {
     "name": "stdout",
     "output_type": "stream",
     "text": [
      "gVirtualXRay core library (gvxr) 1.1.7 (2022-06-27T15:26:20) [Compiler: GNU g++] on Linux\n"
     ]
    }
   ],
   "source": [
    "print(gvxr.getVersionOfCoreGVXR())"
   ]
  },
  {
   "cell_type": "code",
   "execution_count": 3,
   "metadata": {},
   "outputs": [
    {
     "name": "stdout",
     "output_type": "stream",
     "text": [
      "SimpleGVXR 1.0.1 (2022-06-27T15:26:22) [Compiler: GNU g++] on Linux\n"
     ]
    }
   ],
   "source": [
    "print(gvxr.getVersionOfSimpleGVXR())"
   ]
  },
  {
   "cell_type": "markdown",
   "metadata": {},
   "source": [
    "Check SimpleGVXR's version as follows (as of today -- 6th April 2022 -- it is 1.0.1):"
   ]
  },
  {
   "cell_type": "markdown",
   "metadata": {},
   "source": [
    "# GPU implementation\n",
    "\n",
    "We first need to create an OpenGL context (else it'll crash)"
   ]
  },
  {
   "cell_type": "code",
   "execution_count": 4,
   "metadata": {},
   "outputs": [
    {
     "name": "stdout",
     "output_type": "stream",
     "text": [
      "Tue May  3 15:39:55 2022 ---- Create window gvxrStatus:\tCreate window \n"
     ]
    },
    {
     "name": "stderr",
     "output_type": "stream",
     "text": [
      "0\n",
      "1.5\n",
      "4.5.0 NVIDIA 510.47.03\n",
      "NVIDIA Corporation\n",
      "NVIDIA GeForce RTX 2080 Ti/PCIe/SSE2\n",
      "4.5.0 NVIDIA 510.47.03\n",
      "\n"
     ]
    },
    {
     "name": "stdout",
     "output_type": "stream",
     "text": [
      "Tue May  3 15:39:57 2022 ---- EGL version: Tue May  3 15:39:57 2022 ---- OpenGL version supported by this platform Tue May  3 15:39:57 2022 ---- OpenGL vendor:Tue May  3 15:39:57 2022 ---- OpenGL renderer:Tue May  3 15:39:57 2022 ---- OpenGL version:Tue May  3 15:39:57 2022 ---- Use OpenGL 4.5.0 0 500 500\n"
     ]
    }
   ],
   "source": [
    "gvxr.createNewContext(\"EGL\") # Create the OpenGL context using EGL (for Linux only, Window and Apple computers must use \"OPENGL\")"
   ]
  },
  {
   "cell_type": "code",
   "execution_count": 5,
   "metadata": {},
   "outputs": [
    {
     "name": "stdout",
     "output_type": "stream",
     "text": [
      "OpenGL vendor: NVIDIA Corporation\n",
      "OpenGL renderer: NVIDIA GeForce RTX 2080 Ti/PCIe/SSE2\n",
      "OpenGL version: 4.5.0 NVIDIA 510.47.03\n"
     ]
    }
   ],
   "source": [
    "print(\"OpenGL vendor:\", gvxr.getOpenGlVendor())\n",
    "print(\"OpenGL renderer:\", gvxr.getOpenGlRenderer())\n",
    "print(\"OpenGL version:\", gvxr.getOpenGlVersion())"
   ]
  },
  {
   "cell_type": "markdown",
   "metadata": {},
   "source": [
    "# How to get help\n",
    "\n",
    "1. You may contact Franck by email, \n",
    "2. Post a ticket on [SourceForge at https://sourceforge.net/p/gvirtualxray/tickets/](https://sourceforge.net/p/gvirtualxray/tickets/),\n",
    "3. Check the technical documentation as follows:"
   ]
  },
  {
   "cell_type": "code",
   "execution_count": null,
   "metadata": {},
   "outputs": [],
   "source": [
    "help(gvxr)"
   ]
  }
 ],
 "metadata": {
  "kernelspec": {
   "display_name": "Python 3 (ipykernel)",
   "language": "python",
   "name": "python3"
  },
  "language_info": {
   "codemirror_mode": {
    "name": "ipython",
    "version": 3
   },
   "file_extension": ".py",
   "mimetype": "text/x-python",
   "name": "python",
   "nbconvert_exporter": "python",
   "pygments_lexer": "ipython3",
   "version": "3.9.13"
  }
 },
 "nbformat": 4,
 "nbformat_minor": 4
}
