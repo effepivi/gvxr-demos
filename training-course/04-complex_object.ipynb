{
 "cells": [
  {
   "cell_type": "code",
   "execution_count": null,
   "metadata": {},
   "outputs": [],
   "source": [
    "%matplotlib inline"
   ]
  },
  {
   "cell_type": "markdown",
   "metadata": {},
   "source": [
    "3D geometries are load from a single Collada file:\n",
    "    \n",
    "```json\n",
    "        \"SceneGraph\": {\n",
    "        \"Path\": \"input_data/error_phantom.dae\",\n",
    "        \"Unit\": \"mm\",\n",
    "```\n",
    "\n",
    "and each sample has its own material properties\n",
    "\n",
    "```json\n",
    "        \"Samples\": [\n",
    "            {\n",
    "                \"Label\": \"Trachea\",\n",
    "                \"Material\": [\"Mixture\", [\n",
    "                        1, 0.105,\n",
    "                        6, 0.256,\n",
    "                        7, 0.027,\n",
    "                        8, 0.602,\n",
    "                        11, 0.001,\n",
    "                        15, 0.002,\n",
    "                        16, 0.003,\n",
    "                        17, 0.002,\n",
    "                        19, 0.002\n",
    "                    ]\n",
    "                ],\n",
    "                \"Density\": 1.030\n",
    "            },\n",
    "\n",
    "            {\n",
    "                \"Label\": \"Thymus\",\n",
    "                \"Material\": [\"Mixture\", [\n",
    "                        1, 0.105,\n",
    "                        6, 0.256,\n",
    "                        7, 0.027,\n",
    "                        8, 0.602,\n",
    "                        11, 0.001,\n",
    "                        15, 0.002,\n",
    "                        16, 0.003,\n",
    "                        17, 0.002,\n",
    "                        19, 0.002\n",
    "                    ]\n",
    "                ],\n",
    "                \"Density\": 1.030\n",
    "            },\n",
    "```\n",
    "\n",
    "The sample labels in the JSON file corresponds to the same labels in the Collada file."
   ]
  },
  {
   "cell_type": "code",
   "execution_count": 1,
   "metadata": {},
   "outputs": [
    {
     "name": "stdout",
     "output_type": "stream",
     "text": [
      "SimpleGVXR 1.0.1 (2022-04-06T14:29:26) [Compiler: GNU g++] on Linux\n",
      "gVirtualXRay core library (gvxr) 1.1.5 (2022-04-06T14:29:05) [Compiler: GNU g++] on Linux\n"
     ]
    }
   ],
   "source": [
    "from ipywidgets import interact\n",
    "import ipywidgets as widgets\n",
    "\n",
    "import numpy as np # Who does not use Numpy?\n",
    "import matplotlib # To plot images\n",
    "import matplotlib.pyplot as plt # Plotting\n",
    "from matplotlib.colors import LogNorm # Look up table\n",
    "from matplotlib.colors import PowerNorm # Look up table\n",
    "\n",
    "font = {'family' : 'serif',\n",
    "         'size'   : 22\n",
    "       }\n",
    "matplotlib.rc('font', **font)\n",
    "matplotlib.rc('text', usetex=True)\n",
    "\n",
    "from tifffile import imsave # Write TIFF files\n",
    "\n",
    "import gvxrPython3 as gvxr # Simulate X-ray images\n",
    "import json2gvxr # Set the X-ray simulation environment"
   ]
  },
  {
   "cell_type": "markdown",
   "metadata": {},
   "source": [
    "We added `import json2gvxr` to the list of modules."
   ]
  },
  {
   "cell_type": "markdown",
   "metadata": {},
   "source": [
    "# Create an OpenGL context\n",
    "\n",
    "To create an OpenGL context, the renderer is either \"OPENGL\" or \"EGL\". \n",
    "OPENGL is used to create an interactive visualisation window; EGL is used for offline rendering only, e.g. on a supercomputer."
   ]
  },
  {
   "cell_type": "code",
   "execution_count": 2,
   "metadata": {},
   "outputs": [
    {
     "name": "stdout",
     "output_type": "stream",
     "text": [
      "Create an OpenGL context: 800x450\n"
     ]
    }
   ],
   "source": [
    "json2gvxr.initGVXR(\"configuration-04.json\", renderer=\"OPENGL\")"
   ]
  },
  {
   "cell_type": "markdown",
   "metadata": {},
   "source": [
    "# Set up a monochromatic source"
   ]
  },
  {
   "cell_type": "code",
   "execution_count": 3,
   "metadata": {},
   "outputs": [
    {
     "name": "stdout",
     "output_type": "stream",
     "text": [
      "Set up the beam\n",
      "\tSource position: [0.0, 0.0, -1000.0, 'mm']\n",
      "\tSource shape: PointSource\n"
     ]
    }
   ],
   "source": [
    "json2gvxr.initSourceGeometry()\n",
    "spectrum, unit, k, f = json2gvxr.initSpectrum()"
   ]
  },
  {
   "cell_type": "markdown",
   "metadata": {},
   "source": [
    "# Set up an ideal detector"
   ]
  },
  {
   "cell_type": "code",
   "execution_count": 4,
   "metadata": {},
   "outputs": [
    {
     "name": "stdout",
     "output_type": "stream",
     "text": [
      "Set up the detector\n",
      "\tDetector position: [0.0, 0.0, 150.0, 'mm']\n",
      "\tDetector up vector: [0, -1, 0]\n",
      "\tDetector number of pixels: [1152, 1152]\n",
      "\tPixel spacing: [0.4340277777777778, 0.4340277777777778, 'mm']\n"
     ]
    }
   ],
   "source": [
    "json2gvxr.initDetector()"
   ]
  },
  {
   "cell_type": "markdown",
   "metadata": {},
   "source": [
    "# Load the sample data"
   ]
  },
  {
   "cell_type": "code",
   "execution_count": 5,
   "metadata": {},
   "outputs": [
    {
     "name": "stdout",
     "output_type": "stream",
     "text": [
      "Load the 3D data\n",
      "\n",
      "Load the 3D objects from a scenegraph (input_data/error_phantom.dae)\n",
      "0 Trachea\n",
      "1 Thymus\n",
      "2 Stomach-Interior\n",
      "3 Stomach\n",
      "4 Spleen\n",
      "5 Small-Intestine\n",
      "6 Skull\n",
      "7 Pancreas\n",
      "8 Muscle\n",
      "9 Lung-right\n",
      "10 Lung-left\n",
      "11 Liver\n",
      "12 Large-Intestine\n",
      "13 Kidneys-right\n",
      "14 Kidneys-left\n",
      "15 Heart\n",
      "16 Gallbladder\n",
      "17 Eyes-right\n",
      "18 Eyes-left\n",
      "19 Cartilage\n",
      "20 Brain\n",
      "21 Bone\n",
      "22 Bladder\n"
     ]
    }
   ],
   "source": [
    "json2gvxr.initSamples(verbose=1)"
   ]
  },
  {
   "cell_type": "markdown",
   "metadata": {},
   "source": [
    "# Compute an X-ray image\n",
    "\n",
    "We convert the array in a Numpy structure and store the data using single-precision floating-point numbers."
   ]
  },
  {
   "cell_type": "code",
   "execution_count": 6,
   "metadata": {},
   "outputs": [
    {
     "name": "stdout",
     "output_type": "stream",
     "text": [
      "Compute an X-ray image\n"
     ]
    }
   ],
   "source": [
    "print(\"Compute an X-ray image\");\n",
    "x_ray_image = np.flip(gvxr.computeXRayImage(), 1).astype(np.single)"
   ]
  },
  {
   "cell_type": "markdown",
   "metadata": {},
   "source": [
    "# Flat-field correction"
   ]
  },
  {
   "cell_type": "code",
   "execution_count": 7,
   "metadata": {},
   "outputs": [],
   "source": [
    "total_energy_in_MeV = gvxr.getTotalEnergyWithDetectorResponse()"
   ]
  },
  {
   "cell_type": "code",
   "execution_count": 8,
   "metadata": {},
   "outputs": [],
   "source": [
    "white = np.ones(x_ray_image.shape) * total_energy_in_MeV\n",
    "dark = np.zeros(x_ray_image.shape)\n",
    "\n",
    "x_ray_image_flat = (x_ray_image - dark) / (white - dark)"
   ]
  },
  {
   "cell_type": "markdown",
   "metadata": {},
   "source": [
    "# Save the X-ray image in a TIFF file"
   ]
  },
  {
   "cell_type": "code",
   "execution_count": 9,
   "metadata": {},
   "outputs": [],
   "source": [
    "imsave('output_data/raw_x-ray_image-04.tif', x_ray_image)\n",
    "imsave('output_data/flat_x-ray_image-04.tif', x_ray_image_flat)"
   ]
  },
  {
   "cell_type": "markdown",
   "metadata": {},
   "source": [
    "# Display the X-ray image"
   ]
  },
  {
   "cell_type": "code",
   "execution_count": 10,
   "metadata": {},
   "outputs": [
    {
     "data": {
      "application/vnd.jupyter.widget-view+json": {
       "model_id": "b4204faf9aad4d83ad46a8b51e5d3352",
       "version_major": 2,
       "version_minor": 0
      },
      "text/plain": [
       "interactive(children=(FloatSlider(value=3.5, description='gamma', max=10.0, min=0.01, step=0.05), Output()), _…"
      ]
     },
     "metadata": {},
     "output_type": "display_data"
    }
   ],
   "source": [
    "gamma = 3.5\n",
    "\n",
    "vmin = x_ray_image_flat.min()\n",
    "vmax = x_ray_image_flat.max()\n",
    "\n",
    "def interact_plot():\n",
    "\n",
    "    fig_plot = plt.figure(figsize= (20,10))\n",
    "\n",
    "    ax = plt.subplot(131)\n",
    "    plt.imshow(x_ray_image_flat, cmap=\"gray\")\n",
    "    plt.colorbar(orientation='horizontal')\n",
    "    ax.set_title(\"Using a linear colour scale\")\n",
    "\n",
    "    plt.suptitle(\"Image simulated using gVirtualXray\", y=0.95)\n",
    "    ax = plt.subplot(132)\n",
    "    plt.imshow(x_ray_image_flat, norm=LogNorm(vmin=vmin, vmax=vmax), cmap=\"gray\")\n",
    "    plt.colorbar(orientation='horizontal')\n",
    "    ax.set_title(\"Using a logarithmic colour scale\")\n",
    "\n",
    "    ax_img = plt.subplot(133)\n",
    "    plt.imshow(x_ray_image_flat, norm=PowerNorm(gamma=1./gamma), cmap=\"gray\")\n",
    "    plt.colorbar(orientation='horizontal')\n",
    "    ax_img.set_title(\"Using a Power-law colour scale\\n(gamma:\" + str(gamma) + \")\")\n",
    "\n",
    "    plt.tight_layout()\n",
    "    plt.close()\n",
    "\n",
    "    # Callback function\n",
    "    def update_plot(gamma):\n",
    "        ax_img.imshow(x_ray_image_flat, norm=PowerNorm(gamma=1./gamma), cmap=\"gray\")\n",
    "        ax_img.set_title(\"Using a Power-law colour scale\\n(gamma: \" + str(gamma) + \")\")\n",
    "        display(fig_plot)\n",
    "\n",
    "    interact(update_plot,\n",
    "             gamma=widgets.FloatSlider(value=gamma, min=0.01, max=10.0, step=0.05, description=\"gamma\"))\n",
    "\n",
    "interact_plot();"
   ]
  },
  {
   "cell_type": "markdown",
   "metadata": {},
   "source": [
    "# Update the visualisation window"
   ]
  },
  {
   "cell_type": "code",
   "execution_count": 11,
   "metadata": {},
   "outputs": [],
   "source": [
    "gvxr.displayScene()"
   ]
  },
  {
   "cell_type": "markdown",
   "metadata": {},
   "source": [
    "# Interactive visualisation\n",
    "\n",
    "The user can rotate the 3D scene and zoom-in and -out in the visualisation window.\n",
    "\n",
    "- Keys are:\n",
    "    - Q/Escape: to quit the event loop (does not close the window)\n",
    "    - B: display/hide the X-ray beam\n",
    "    - W: display the polygon meshes in solid or wireframe\n",
    "    - N: display the X-ray image in negative or positive\n",
    "    - H: display/hide the X-ray detector\n",
    "- Mouse interactions:\n",
    "    - Zoom in/out: mouse wheel\n",
    "    - Rotation: Right mouse button down + move cursor"
   ]
  },
  {
   "cell_type": "code",
   "execution_count": 12,
   "metadata": {},
   "outputs": [],
   "source": [
    "gvxr.renderLoop()"
   ]
  },
  {
   "cell_type": "markdown",
   "metadata": {},
   "source": [
    "# Take a screenshot\n",
    "\n",
    "This image can be used in a research paper to illustrate the simulation environment, in which case you may want to change the background colour to white with:"
   ]
  },
  {
   "cell_type": "code",
   "execution_count": 13,
   "metadata": {},
   "outputs": [],
   "source": [
    "gvxr.setWindowBackGroundColour(1.0, 1.0, 1.0)"
   ]
  },
  {
   "cell_type": "markdown",
   "metadata": {},
   "source": [
    "or dark-grey"
   ]
  },
  {
   "cell_type": "code",
   "execution_count": 14,
   "metadata": {},
   "outputs": [],
   "source": [
    "gvxr.setWindowBackGroundColour(0.25, 0.25, 0.25)"
   ]
  },
  {
   "cell_type": "markdown",
   "metadata": {},
   "source": [
    "and update the visualisation window"
   ]
  },
  {
   "cell_type": "code",
   "execution_count": 15,
   "metadata": {},
   "outputs": [],
   "source": [
    "gvxr.displayScene()"
   ]
  },
  {
   "cell_type": "markdown",
   "metadata": {},
   "source": [
    "take the screenshot and save it in a file"
   ]
  },
  {
   "cell_type": "code",
   "execution_count": 16,
   "metadata": {},
   "outputs": [],
   "source": [
    "screenshot = gvxr.takeScreenshot()"
   ]
  },
  {
   "cell_type": "code",
   "execution_count": 17,
   "metadata": {},
   "outputs": [],
   "source": [
    "plt.imsave(\"output_data/screenshot-04.png\", np.array(screenshot))"
   ]
  },
  {
   "cell_type": "markdown",
   "metadata": {},
   "source": [
    "display it using Matplotlib"
   ]
  },
  {
   "cell_type": "code",
   "execution_count": 18,
   "metadata": {},
   "outputs": [
    {
     "data": {
      "image/png": "[encoded data removed]",
      "text/plain": [
       "<Figure size 720x720 with 1 Axes>"
      ]
     },
     "metadata": {
      "needs_background": "light"
     },
     "output_type": "display_data"
    }
   ],
   "source": [
    "plt.figure(figsize=(10, 10))\n",
    "plt.imshow(screenshot)\n",
    "plt.title(\"Screenshot of the X-ray simulation environment\")\n",
    "plt.axis('off');"
   ]
  },
  {
   "cell_type": "markdown",
   "metadata": {},
   "source": [
    "## All done\n",
    "\n",
    "Destroy the window"
   ]
  },
  {
   "cell_type": "code",
   "execution_count": 19,
   "metadata": {},
   "outputs": [],
   "source": [
    "gvxr.destroyAllWindows()"
   ]
  }
 ],
 "metadata": {
  "kernelspec": {
   "display_name": "Python 3",
   "language": "python",
   "name": "python3"
  },
  "language_info": {
   "codemirror_mode": {
    "name": "ipython",
    "version": 3
   },
   "file_extension": ".py",
   "mimetype": "text/x-python",
   "name": "python",
   "nbconvert_exporter": "python",
   "pygments_lexer": "ipython3",
   "version": "3.6.12"
  }
 },
 "nbformat": 4,
 "nbformat_minor": 4
}
